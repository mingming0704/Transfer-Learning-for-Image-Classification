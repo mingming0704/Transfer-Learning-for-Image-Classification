{
 "cells": [
  {
   "cell_type": "markdown",
   "id": "f5d067d8-e1fc-4b99-ac55-13ebe4e9c6d6",
   "metadata": {},
   "source": [
    "<center><h1>Cai_Mingming_FinalProject</h1></center>"
   ]
  },
  {
   "cell_type": "markdown",
   "id": "aa590965-c08d-4516-b3d5-0bed2b73033a",
   "metadata": {},
   "source": [
    "Name: Mingming Cai\n",
    "<br>\n",
    "Github Username: mingming0704\n",
    "<br>\n",
    "USC ID: 7934399995"
   ]
  },
  {
   "cell_type": "markdown",
   "id": "1e26159a-848e-4423-89b1-77555192c4a8",
   "metadata": {},
   "source": [
    "## Transfer Learning"
   ]
  },
  {
   "cell_type": "markdown",
   "id": "79c59d92-916f-40fe-bd46-41d0b77cab3f",
   "metadata": {},
   "source": [
    "This project is to build a classifier using transfer learning that distinguishes images of six scenes: \"buildings\", \"forest\", \"glacier\", \"mountain\", \"sea\", \"street\". The pre-trained models used in this project contains: ResNet50, ResNet101, EfficientNetB0, and VGG16."
   ]
  },
  {
   "cell_type": "code",
   "execution_count": 6,
   "id": "d1ff3d7d-9a18-4df0-8a1e-e1f00c2fbd8c",
   "metadata": {},
   "outputs": [],
   "source": [
    "# Import packages\n",
    "\n",
    "import tensorflow as tf\n",
    "from tensorflow.keras.applications import ResNet50\n",
    "from tensorflow.keras.models import Sequential, Model\n",
    "from tensorflow.keras.layers import GlobalAveragePooling2D, Dense, Dropout, BatchNormalization, Input, Activation, InputLayer\n",
    "from tensorflow.keras.layers import RandomRotation, RandomTranslation, RandomZoom, RandomFlip, Rescaling, Layer\n",
    "from tensorflow.keras.optimizers import Adam\n",
    "from tensorflow.keras.callbacks import EarlyStopping, ModelCheckpoint\n",
    "from tensorflow.keras.preprocessing import image_dataset_from_directory\n",
    "from tensorflow.keras.regularizers import l2\n",
    "import matplotlib.pyplot as plt\n",
    "from tensorflow.keras.applications import VGG16\n",
    "from tensorflow.keras.preprocessing.image import ImageDataGenerator\n",
    "from tensorflow.keras.models import load_model\n",
    "import matplotlib.pyplot as plt\n",
    "import numpy as np\n",
    "from sklearn.metrics import classification_report, roc_auc_score"
   ]
  },
  {
   "cell_type": "markdown",
   "id": "1c39d2c9-2d48-430b-868d-5084bb6ac957",
   "metadata": {},
   "source": [
    "### 1. ResNet50"
   ]
  },
  {
   "cell_type": "markdown",
   "id": "82ba1c6d-7d2d-4a30-8e42-bc3acd28dc53",
   "metadata": {},
   "source": [
    "#### Data Augmentation"
   ]
  },
  {
   "cell_type": "code",
   "execution_count": 8,
   "id": "2e84a797-07e4-4947-9262-67080e164371",
   "metadata": {},
   "outputs": [
    {
     "name": "stdout",
     "output_type": "stream",
     "text": [
      "Found 11230 images belonging to 6 classes.\n",
      "Found 2804 images belonging to 6 classes.\n",
      "Found 3000 images belonging to 6 classes.\n"
     ]
    }
   ],
   "source": [
    "# Set the path for training and testing images\n",
    "train_dir = '../data/seg_train'\n",
    "test_dir = '../data/seg_test'\n",
    "\n",
    "# Initialize the ImageDataGenerator with augmentation options for training\n",
    "train_datagen = ImageDataGenerator(\n",
    "    preprocessing_function=tf.keras.applications.resnet50.preprocess_input,\n",
    "    rotation_range=40, # randomly rotatet images during the augmentation\n",
    "    width_shift_range=0.2, # Defines the fraction of the total width by which images can be randomly shifted horizontally\n",
    "    height_shift_range=0.2, # Similar to width_shift_range, but for vertical shifts\n",
    "    shear_range=0.2, # Specifies the shear intensity, measured in radians\n",
    "    zoom_range=0.2, # Defines the zoom range for randomly zooming into or out of an image\n",
    "    horizontal_flip=True, # If set to True, the images are randomly flipped horizontally (left-to-right)\n",
    "    fill_mode='nearest', # Fills with the nearest pixel value for newly created pixels after transformations like rotation or shifts\n",
    "    brightness_range=[0.8,1.2], # Defines the range for random brightness adjustments\n",
    "    validation_split=0.2  # 20% for validation\n",
    ")\n",
    "\n",
    "# No augmentation for test data, just preprocessing\n",
    "test_datagen = ImageDataGenerator(preprocessing_function=tf.keras.applications.resnet50.preprocess_input)\n",
    "\n",
    "# Prepare data generators\n",
    "# The flow_from_directory method infers classes from the subdirectory names in the given directory path, and automatically assigns a one-hot encoded label to each image based on the subdirectory it’s found in, corresponding to the class\n",
    "train_generator = train_datagen.flow_from_directory(\n",
    "    train_dir,\n",
    "    target_size=(224, 224),\n",
    "    batch_size=5,\n",
    "    class_mode='categorical',\n",
    "    subset='training')  # Specify as training data\n",
    "\n",
    "validation_generator = train_datagen.flow_from_directory(\n",
    "    train_dir,\n",
    "    target_size=(224, 224),\n",
    "    batch_size=5,\n",
    "    class_mode='categorical',\n",
    "    subset='validation')  # Specify as validation data\n",
    "\n",
    "test_generator = test_datagen.flow_from_directory(\n",
    "    test_dir,\n",
    "    target_size=(224, 224),\n",
    "    batch_size=5,\n",
    "    class_mode='categorical',\n",
    "    shuffle=False  # Important for correct label ordering in evaluation\n",
    ")\n"
   ]
  },
  {
   "cell_type": "markdown",
   "id": "6c1cef96-5d67-42c3-a70c-42e8ca5dc1c6",
   "metadata": {},
   "source": [
    "#### Train the model"
   ]
  },
  {
   "cell_type": "code",
   "execution_count": 11,
   "id": "c67327c9-9d07-424e-a2a2-507d38f1c502",
   "metadata": {},
   "outputs": [
    {
     "name": "stdout",
     "output_type": "stream",
     "text": [
      "Epoch 1/50\n",
      "\u001b[1m2246/2246\u001b[0m \u001b[32m━━━━━━━━━━━━━━━━━━━━\u001b[0m\u001b[37m\u001b[0m \u001b[1m102s\u001b[0m 44ms/step - accuracy: 0.6976 - loss: 5.8090 - val_accuracy: 0.7882 - val_loss: 1.4541\n",
      "Epoch 2/50\n",
      "\u001b[1m2246/2246\u001b[0m \u001b[32m━━━━━━━━━━━━━━━━━━━━\u001b[0m\u001b[37m\u001b[0m \u001b[1m97s\u001b[0m 43ms/step - accuracy: 0.7322 - loss: 1.5931 - val_accuracy: 0.8285 - val_loss: 1.1976\n",
      "Epoch 3/50\n",
      "\u001b[1m2246/2246\u001b[0m \u001b[32m━━━━━━━━━━━━━━━━━━━━\u001b[0m\u001b[37m\u001b[0m \u001b[1m97s\u001b[0m 43ms/step - accuracy: 0.7393 - loss: 1.4227 - val_accuracy: 0.8570 - val_loss: 0.9640\n",
      "Epoch 4/50\n",
      "\u001b[1m2246/2246\u001b[0m \u001b[32m━━━━━━━━━━━━━━━━━━━━\u001b[0m\u001b[37m\u001b[0m \u001b[1m98s\u001b[0m 44ms/step - accuracy: 0.7677 - loss: 1.1657 - val_accuracy: 0.8716 - val_loss: 0.7676\n",
      "Epoch 5/50\n",
      "\u001b[1m2246/2246\u001b[0m \u001b[32m━━━━━━━━━━━━━━━━━━━━\u001b[0m\u001b[37m\u001b[0m \u001b[1m97s\u001b[0m 43ms/step - accuracy: 0.7778 - loss: 1.0037 - val_accuracy: 0.8809 - val_loss: 0.6821\n",
      "Epoch 6/50\n",
      "\u001b[1m2246/2246\u001b[0m \u001b[32m━━━━━━━━━━━━━━━━━━━━\u001b[0m\u001b[37m\u001b[0m \u001b[1m96s\u001b[0m 43ms/step - accuracy: 0.7947 - loss: 0.8998 - val_accuracy: 0.8777 - val_loss: 0.6488\n",
      "Epoch 7/50\n",
      "\u001b[1m2246/2246\u001b[0m \u001b[32m━━━━━━━━━━━━━━━━━━━━\u001b[0m\u001b[37m\u001b[0m \u001b[1m97s\u001b[0m 43ms/step - accuracy: 0.7874 - loss: 0.8846 - val_accuracy: 0.8859 - val_loss: 0.6274\n",
      "Epoch 8/50\n",
      "\u001b[1m2246/2246\u001b[0m \u001b[32m━━━━━━━━━━━━━━━━━━━━\u001b[0m\u001b[37m\u001b[0m \u001b[1m97s\u001b[0m 43ms/step - accuracy: 0.8043 - loss: 0.8373 - val_accuracy: 0.8976 - val_loss: 0.5847\n",
      "Epoch 9/50\n",
      "\u001b[1m2246/2246\u001b[0m \u001b[32m━━━━━━━━━━━━━━━━━━━━\u001b[0m\u001b[37m\u001b[0m \u001b[1m96s\u001b[0m 43ms/step - accuracy: 0.7914 - loss: 0.8617 - val_accuracy: 0.8762 - val_loss: 0.6009\n",
      "Epoch 10/50\n",
      "\u001b[1m2246/2246\u001b[0m \u001b[32m━━━━━━━━━━━━━━━━━━━━\u001b[0m\u001b[37m\u001b[0m \u001b[1m97s\u001b[0m 43ms/step - accuracy: 0.8029 - loss: 0.7909 - val_accuracy: 0.8816 - val_loss: 0.5684\n",
      "Epoch 11/50\n",
      "\u001b[1m2246/2246\u001b[0m \u001b[32m━━━━━━━━━━━━━━━━━━━━\u001b[0m\u001b[37m\u001b[0m \u001b[1m97s\u001b[0m 43ms/step - accuracy: 0.7866 - loss: 0.8273 - val_accuracy: 0.8848 - val_loss: 0.5643\n",
      "Epoch 12/50\n",
      "\u001b[1m2246/2246\u001b[0m \u001b[32m━━━━━━━━━━━━━━━━━━━━\u001b[0m\u001b[37m\u001b[0m \u001b[1m97s\u001b[0m 43ms/step - accuracy: 0.7913 - loss: 0.8219 - val_accuracy: 0.8798 - val_loss: 0.5619\n",
      "Epoch 13/50\n",
      "\u001b[1m2246/2246\u001b[0m \u001b[32m━━━━━━━━━━━━━━━━━━━━\u001b[0m\u001b[37m\u001b[0m \u001b[1m97s\u001b[0m 43ms/step - accuracy: 0.7975 - loss: 0.7837 - val_accuracy: 0.8891 - val_loss: 0.5382\n",
      "Epoch 14/50\n",
      "\u001b[1m2246/2246\u001b[0m \u001b[32m━━━━━━━━━━━━━━━━━━━━\u001b[0m\u001b[37m\u001b[0m \u001b[1m97s\u001b[0m 43ms/step - accuracy: 0.7937 - loss: 0.7903 - val_accuracy: 0.8902 - val_loss: 0.5183\n",
      "Epoch 15/50\n",
      "\u001b[1m2246/2246\u001b[0m \u001b[32m━━━━━━━━━━━━━━━━━━━━\u001b[0m\u001b[37m\u001b[0m \u001b[1m96s\u001b[0m 43ms/step - accuracy: 0.8016 - loss: 0.7567 - val_accuracy: 0.8830 - val_loss: 0.5214\n",
      "Epoch 16/50\n",
      "\u001b[1m2246/2246\u001b[0m \u001b[32m━━━━━━━━━━━━━━━━━━━━\u001b[0m\u001b[37m\u001b[0m \u001b[1m97s\u001b[0m 43ms/step - accuracy: 0.7931 - loss: 0.7638 - val_accuracy: 0.8944 - val_loss: 0.4989\n",
      "Epoch 17/50\n",
      "\u001b[1m2246/2246\u001b[0m \u001b[32m━━━━━━━━━━━━━━━━━━━━\u001b[0m\u001b[37m\u001b[0m \u001b[1m96s\u001b[0m 43ms/step - accuracy: 0.7969 - loss: 0.7549 - val_accuracy: 0.8834 - val_loss: 0.5110\n",
      "Epoch 18/50\n",
      "\u001b[1m2246/2246\u001b[0m \u001b[32m━━━━━━━━━━━━━━━━━━━━\u001b[0m\u001b[37m\u001b[0m \u001b[1m97s\u001b[0m 43ms/step - accuracy: 0.8067 - loss: 0.7556 - val_accuracy: 0.8877 - val_loss: 0.5032\n",
      "Epoch 19/50\n",
      "\u001b[1m2246/2246\u001b[0m \u001b[32m━━━━━━━━━━━━━━━━━━━━\u001b[0m\u001b[37m\u001b[0m \u001b[1m97s\u001b[0m 43ms/step - accuracy: 0.8046 - loss: 0.7368 - val_accuracy: 0.8830 - val_loss: 0.5093\n",
      "Epoch 20/50\n",
      "\u001b[1m2246/2246\u001b[0m \u001b[32m━━━━━━━━━━━━━━━━━━━━\u001b[0m\u001b[37m\u001b[0m \u001b[1m96s\u001b[0m 43ms/step - accuracy: 0.8010 - loss: 0.7420 - val_accuracy: 0.8837 - val_loss: 0.5034\n",
      "Epoch 21/50\n",
      "\u001b[1m2246/2246\u001b[0m \u001b[32m━━━━━━━━━━━━━━━━━━━━\u001b[0m\u001b[37m\u001b[0m \u001b[1m97s\u001b[0m 43ms/step - accuracy: 0.8017 - loss: 0.7266 - val_accuracy: 0.8855 - val_loss: 0.4935\n",
      "Epoch 22/50\n",
      "\u001b[1m2246/2246\u001b[0m \u001b[32m━━━━━━━━━━━━━━━━━━━━\u001b[0m\u001b[37m\u001b[0m \u001b[1m97s\u001b[0m 43ms/step - accuracy: 0.7918 - loss: 0.7350 - val_accuracy: 0.8891 - val_loss: 0.4923\n",
      "Epoch 23/50\n",
      "\u001b[1m2246/2246\u001b[0m \u001b[32m━━━━━━━━━━━━━━━━━━━━\u001b[0m\u001b[37m\u001b[0m \u001b[1m97s\u001b[0m 43ms/step - accuracy: 0.8054 - loss: 0.7203 - val_accuracy: 0.8962 - val_loss: 0.4463\n",
      "Epoch 24/50\n",
      "\u001b[1m2246/2246\u001b[0m \u001b[32m━━━━━━━━━━━━━━━━━━━━\u001b[0m\u001b[37m\u001b[0m \u001b[1m97s\u001b[0m 43ms/step - accuracy: 0.8008 - loss: 0.7179 - val_accuracy: 0.8894 - val_loss: 0.4991\n",
      "Epoch 25/50\n",
      "\u001b[1m2246/2246\u001b[0m \u001b[32m━━━━━━━━━━━━━━━━━━━━\u001b[0m\u001b[37m\u001b[0m \u001b[1m97s\u001b[0m 43ms/step - accuracy: 0.8071 - loss: 0.7217 - val_accuracy: 0.8923 - val_loss: 0.4615\n",
      "Epoch 26/50\n",
      "\u001b[1m2246/2246\u001b[0m \u001b[32m━━━━━━━━━━━━━━━━━━━━\u001b[0m\u001b[37m\u001b[0m \u001b[1m97s\u001b[0m 43ms/step - accuracy: 0.8027 - loss: 0.7158 - val_accuracy: 0.8894 - val_loss: 0.4665\n",
      "Epoch 27/50\n",
      "\u001b[1m2246/2246\u001b[0m \u001b[32m━━━━━━━━━━━━━━━━━━━━\u001b[0m\u001b[37m\u001b[0m \u001b[1m97s\u001b[0m 43ms/step - accuracy: 0.7966 - loss: 0.7131 - val_accuracy: 0.8894 - val_loss: 0.4611\n",
      "Epoch 28/50\n",
      "\u001b[1m2246/2246\u001b[0m \u001b[32m━━━━━━━━━━━━━━━━━━━━\u001b[0m\u001b[37m\u001b[0m \u001b[1m97s\u001b[0m 43ms/step - accuracy: 0.8036 - loss: 0.7081 - val_accuracy: 0.8923 - val_loss: 0.4969\n",
      "Epoch 29/50\n",
      "\u001b[1m2246/2246\u001b[0m \u001b[32m━━━━━━━━━━━━━━━━━━━━\u001b[0m\u001b[37m\u001b[0m \u001b[1m98s\u001b[0m 43ms/step - accuracy: 0.7989 - loss: 0.7188 - val_accuracy: 0.8923 - val_loss: 0.4734\n",
      "Epoch 30/50\n",
      "\u001b[1m2246/2246\u001b[0m \u001b[32m━━━━━━━━━━━━━━━━━━━━\u001b[0m\u001b[37m\u001b[0m \u001b[1m98s\u001b[0m 44ms/step - accuracy: 0.7982 - loss: 0.7108 - val_accuracy: 0.8902 - val_loss: 0.4611\n",
      "Epoch 31/50\n",
      "\u001b[1m2246/2246\u001b[0m \u001b[32m━━━━━━━━━━━━━━━━━━━━\u001b[0m\u001b[37m\u001b[0m \u001b[1m97s\u001b[0m 43ms/step - accuracy: 0.8127 - loss: 0.6805 - val_accuracy: 0.8884 - val_loss: 0.4598\n",
      "Epoch 32/50\n",
      "\u001b[1m2246/2246\u001b[0m \u001b[32m━━━━━━━━━━━━━━━━━━━━\u001b[0m\u001b[37m\u001b[0m \u001b[1m97s\u001b[0m 43ms/step - accuracy: 0.8053 - loss: 0.7050 - val_accuracy: 0.8937 - val_loss: 0.4481\n",
      "Epoch 33/50\n",
      "\u001b[1m2246/2246\u001b[0m \u001b[32m━━━━━━━━━━━━━━━━━━━━\u001b[0m\u001b[37m\u001b[0m \u001b[1m97s\u001b[0m 43ms/step - accuracy: 0.8044 - loss: 0.6856 - val_accuracy: 0.8894 - val_loss: 0.4586\n",
      "Epoch 33: early stopping\n",
      "Restoring model weights from the end of the best epoch: 23.\n"
     ]
    },
    {
     "data": {
      "image/png": "[encoded data removed]",
      "text/plain": [
       "<Figure size 1000x500 with 1 Axes>"
      ]
     },
     "metadata": {},
     "output_type": "display_data"
    }
   ],
   "source": [
    "# Load ResNet50 with pre-trained weights\n",
    "base_model = ResNet50(weights='imagenet', include_top=False, input_shape=(224, 224, 3))\n",
    "\n",
    "# Freeze the base model\n",
    "base_model.trainable = False  \n",
    "\n",
    "# Create the model architecture with additional layers for regularization and classification\n",
    "model = Sequential([\n",
    "    base_model,\n",
    "    GlobalAveragePooling2D(), # average pooling\n",
    "    BatchNormalization(), # Normalize the activations of the previous layer, stabilizing and accelerating training. It helps reduce internal covariate shift, making the network more robust to variations in data.\n",
    "    Dropout(0.2), # Randomly sets 20% of the input units to zero during each training step to prevent overfitting\n",
    "    Dense(1024, activation='relu', kernel_regularizer=l2(0.01)), # A fully connected (dense) layer with 1,024 neurons and ReLU (Rectified Linear Unit) activation, and L2 regularization (0.01) to the weights\n",
    "    BatchNormalization(),\n",
    "    Dense(6, activation='softmax'), # Apply the softmax activation to the output logits, converting them into probabilities for the 6 classes\n",
    "])\n",
    "\n",
    "# Compile the model\n",
    "model.compile(optimizer=Adam(), loss='categorical_crossentropy', metrics=['accuracy'])\n",
    "\n",
    "# Callbacks for early stopping and model checkpoint\n",
    "callbacks = [\n",
    "    EarlyStopping(monitor='val_loss', patience=10, verbose=1, restore_best_weights=True),\n",
    "    ModelCheckpoint('best_model.keras', monitor='val_loss', save_best_only=True)\n",
    "]\n",
    "\n",
    "# Train the model\n",
    "history = model.fit(\n",
    "    train_generator,\n",
    "    epochs=50,\n",
    "    validation_data=validation_generator,\n",
    "    callbacks=callbacks\n",
    ")\n",
    "\n",
    "# Plotting training and validation errors\n",
    "plt.figure(figsize=(10, 5))\n",
    "plt.plot(history.history['loss'], label='Train Loss')\n",
    "plt.plot(history.history['val_loss'], label='Validation Loss')\n",
    "plt.title('Model Loss over Epochs')\n",
    "plt.ylabel('Loss')\n",
    "plt.xlabel('Epoch')\n",
    "plt.legend()\n",
    "plt.show()"
   ]
  },
  {
   "cell_type": "markdown",
   "id": "0e2bb2ac-84ff-4353-9a72-4c8cea6c64b7",
   "metadata": {},
   "source": [
    "#### Test model"
   ]
  },
  {
   "cell_type": "code",
   "execution_count": 12,
   "id": "fe4398a2-0a9a-4cac-86f5-be660f0265c5",
   "metadata": {},
   "outputs": [
    {
     "name": "stderr",
     "output_type": "stream",
     "text": [
      "/var/folders/w4/q55y9y650m77xb_hvvqqtv7c0000gn/T/ipykernel_30356/3984441684.py:11: DeprecationWarning: `np.math` is a deprecated alias for the standard library `math` module (Deprecated Numpy 1.25). Replace usages of `np.math` with `math`\n",
      "  test_steps_per_epoch = np.math.ceil(test_generator.samples / test_generator.batch_size)\n"
     ]
    },
    {
     "name": "stdout",
     "output_type": "stream",
     "text": [
      "\u001b[1m600/600\u001b[0m \u001b[32m━━━━━━━━━━━━━━━━━━━━\u001b[0m\u001b[37m\u001b[0m \u001b[1m18s\u001b[0m 28ms/step\n",
      "              precision    recall  f1-score   support\n",
      "\n",
      "   buildings       0.94      0.89      0.91       437\n",
      "      forest       0.96      0.99      0.98       474\n",
      "     glacier       0.88      0.75      0.81       553\n",
      "    mountain       0.80      0.88      0.84       525\n",
      "         sea       0.93      0.95      0.94       510\n",
      "      street       0.91      0.95      0.93       501\n",
      "\n",
      "    accuracy                           0.90      3000\n",
      "   macro avg       0.90      0.90      0.90      3000\n",
      "weighted avg       0.90      0.90      0.90      3000\n",
      "\n",
      "AUC per class: 0.9904068158350453\n"
     ]
    }
   ],
   "source": [
    "# Load the best model\n",
    "model = load_model('best_model.keras')\n",
    "\n",
    "# Predict on the test set\n",
    "test_steps_per_epoch = np.math.ceil(test_generator.samples / test_generator.batch_size)\n",
    "predictions = model.predict(test_generator, steps=test_steps_per_epoch)\n",
    "predicted_classes = np.argmax(predictions, axis=1)\n",
    "true_classes = test_generator.classes\n",
    "class_labels = list(test_generator.class_indices.keys())\n",
    "\n",
    "# Evaluate using sklearn's classification report which includes precision, recall, and F1-score\n",
    "report = classification_report(true_classes, predicted_classes, target_names=class_labels)\n",
    "print(report)\n",
    "\n",
    "# Calculate AUC for each class\n",
    "# Note: AUC is typically used in binary classification, or calculated per class against all other classes\n",
    "if predictions.shape[1] == 2:  # Binary classification check\n",
    "    auc_score = roc_auc_score(true_classes, predictions[:, 1])\n",
    "    print(f\"AUC: {auc_score}\")\n",
    "else:\n",
    "    # Calculating AUC for multiclass\n",
    "    auc_scores = roc_auc_score(true_classes, predictions, multi_class='ovr')\n",
    "    print(f\"AUC per class: {auc_scores}\")"
   ]
  },
  {
   "cell_type": "markdown",
   "id": "b3b293bf-476c-4c4c-b91a-093852bcc030",
   "metadata": {},
   "source": [
    "### 2. ResNet101"
   ]
  },
  {
   "cell_type": "markdown",
   "id": "637035cf-258f-438e-bda5-d9d4beac0f66",
   "metadata": {},
   "source": [
    "#### Data augmentation"
   ]
  },
  {
   "cell_type": "code",
   "execution_count": 13,
   "id": "3f0f462a-6180-475a-8cbf-49e2993e300d",
   "metadata": {},
   "outputs": [
    {
     "name": "stdout",
     "output_type": "stream",
     "text": [
      "Found 11230 images belonging to 6 classes.\n",
      "Found 2804 images belonging to 6 classes.\n",
      "Found 3000 images belonging to 6 classes.\n"
     ]
    }
   ],
   "source": [
    "# Set the path for training and testing images\n",
    "train_dir = '../data/seg_train'\n",
    "test_dir = '../data/seg_test'\n",
    "\n",
    "# Initialize the ImageDataGenerator with augmentation options for training\n",
    "train_datagen = ImageDataGenerator(\n",
    "    preprocessing_function=tf.keras.applications.resnet.preprocess_input,  # ResNet101 preprocessing function\n",
    "    rotation_range=40,\n",
    "    width_shift_range=0.2,\n",
    "    height_shift_range=0.2,\n",
    "    shear_range=0.2,\n",
    "    zoom_range=0.2,\n",
    "    horizontal_flip=True,\n",
    "    fill_mode='nearest',\n",
    "    brightness_range=[0.8, 1.2],\n",
    "    validation_split=0.2  # 20% for validation\n",
    ")\n",
    "\n",
    "# No augmentation for test data, just preprocessing\n",
    "test_datagen = ImageDataGenerator(preprocessing_function=tf.keras.applications.resnet.preprocess_input)\n",
    "\n",
    "# Prepare data generators\n",
    "train_generator = train_datagen.flow_from_directory(\n",
    "    train_dir,\n",
    "    target_size=(224, 224),\n",
    "    batch_size=5,\n",
    "    class_mode='categorical',\n",
    "    subset='training'\n",
    ")\n",
    "\n",
    "validation_generator = train_datagen.flow_from_directory(\n",
    "    train_dir,\n",
    "    target_size=(224, 224),\n",
    "    batch_size=5,\n",
    "    class_mode='categorical',\n",
    "    subset='validation'\n",
    ")\n",
    "\n",
    "test_generator = test_datagen.flow_from_directory(\n",
    "    test_dir,\n",
    "    target_size=(224, 224),\n",
    "    batch_size=5,\n",
    "    class_mode='categorical',\n",
    "    shuffle=False\n",
    ")\n"
   ]
  },
  {
   "cell_type": "markdown",
   "id": "58e1e93f-8c37-4af5-acae-f7026a656fd0",
   "metadata": {},
   "source": [
    "#### Train the model"
   ]
  },
  {
   "cell_type": "code",
   "execution_count": 14,
   "id": "9ee9d191-ee43-44d3-ae7c-8046e3ba62ce",
   "metadata": {},
   "outputs": [
    {
     "name": "stdout",
     "output_type": "stream",
     "text": [
      "Downloading data from https://storage.googleapis.com/tensorflow/keras-applications/resnet/resnet101_weights_tf_dim_ordering_tf_kernels_notop.h5\n",
      "\u001b[1m171446536/171446536\u001b[0m \u001b[32m━━━━━━━━━━━━━━━━━━━━\u001b[0m\u001b[37m\u001b[0m \u001b[1m3s\u001b[0m 0us/step\n",
      "Epoch 1/50\n"
     ]
    },
    {
     "name": "stderr",
     "output_type": "stream",
     "text": [
      "/opt/anaconda3/envs/tf/lib/python3.10/site-packages/keras/src/trainers/data_adapters/py_dataset_adapter.py:121: UserWarning: Your `PyDataset` class should call `super().__init__(**kwargs)` in its constructor. `**kwargs` can include `workers`, `use_multiprocessing`, `max_queue_size`. Do not pass these arguments to `fit()`, as they will be ignored.\n",
      "  self._warn_if_super_not_called()\n"
     ]
    },
    {
     "name": "stdout",
     "output_type": "stream",
     "text": [
      "\u001b[1m2246/2246\u001b[0m \u001b[32m━━━━━━━━━━━━━━━━━━━━\u001b[0m\u001b[37m\u001b[0m \u001b[1m164s\u001b[0m 70ms/step - accuracy: 0.7073 - loss: 5.7576 - val_accuracy: 0.8324 - val_loss: 1.4244\n",
      "Epoch 2/50\n",
      "\u001b[1m2246/2246\u001b[0m \u001b[32m━━━━━━━━━━━━━━━━━━━━\u001b[0m\u001b[37m\u001b[0m \u001b[1m153s\u001b[0m 68ms/step - accuracy: 0.7250 - loss: 1.6107 - val_accuracy: 0.7907 - val_loss: 1.3413\n",
      "Epoch 3/50\n",
      "\u001b[1m2246/2246\u001b[0m \u001b[32m━━━━━━━━━━━━━━━━━━━━\u001b[0m\u001b[37m\u001b[0m \u001b[1m152s\u001b[0m 68ms/step - accuracy: 0.7536 - loss: 1.3965 - val_accuracy: 0.8513 - val_loss: 1.0183\n",
      "Epoch 4/50\n",
      "\u001b[1m2246/2246\u001b[0m \u001b[32m━━━━━━━━━━━━━━━━━━━━\u001b[0m\u001b[37m\u001b[0m \u001b[1m152s\u001b[0m 68ms/step - accuracy: 0.7646 - loss: 1.1597 - val_accuracy: 0.8780 - val_loss: 0.7403\n",
      "Epoch 5/50\n",
      "\u001b[1m2246/2246\u001b[0m \u001b[32m━━━━━━━━━━━━━━━━━━━━\u001b[0m\u001b[37m\u001b[0m \u001b[1m152s\u001b[0m 68ms/step - accuracy: 0.7787 - loss: 0.9816 - val_accuracy: 0.8688 - val_loss: 0.6960\n",
      "Epoch 6/50\n",
      "\u001b[1m2246/2246\u001b[0m \u001b[32m━━━━━━━━━━━━━━━━━━━━\u001b[0m\u001b[37m\u001b[0m \u001b[1m152s\u001b[0m 68ms/step - accuracy: 0.7873 - loss: 0.9118 - val_accuracy: 0.8766 - val_loss: 0.6509\n",
      "Epoch 7/50\n",
      "\u001b[1m2246/2246\u001b[0m \u001b[32m━━━━━━━━━━━━━━━━━━━━\u001b[0m\u001b[37m\u001b[0m \u001b[1m152s\u001b[0m 68ms/step - accuracy: 0.7852 - loss: 0.8984 - val_accuracy: 0.8848 - val_loss: 0.6187\n",
      "Epoch 8/50\n",
      "\u001b[1m2246/2246\u001b[0m \u001b[32m━━━━━━━━━━━━━━━━━━━━\u001b[0m\u001b[37m\u001b[0m \u001b[1m152s\u001b[0m 68ms/step - accuracy: 0.7886 - loss: 0.8557 - val_accuracy: 0.8898 - val_loss: 0.5646\n",
      "Epoch 9/50\n",
      "\u001b[1m2246/2246\u001b[0m \u001b[32m━━━━━━━━━━━━━━━━━━━━\u001b[0m\u001b[37m\u001b[0m \u001b[1m152s\u001b[0m 68ms/step - accuracy: 0.8010 - loss: 0.8103 - val_accuracy: 0.8862 - val_loss: 0.5621\n",
      "Epoch 10/50\n",
      "\u001b[1m2246/2246\u001b[0m \u001b[32m━━━━━━━━━━━━━━━━━━━━\u001b[0m\u001b[37m\u001b[0m \u001b[1m152s\u001b[0m 68ms/step - accuracy: 0.7843 - loss: 0.8297 - val_accuracy: 0.8894 - val_loss: 0.5756\n",
      "Epoch 11/50\n",
      "\u001b[1m2246/2246\u001b[0m \u001b[32m━━━━━━━━━━━━━━━━━━━━\u001b[0m\u001b[37m\u001b[0m \u001b[1m152s\u001b[0m 68ms/step - accuracy: 0.7980 - loss: 0.7895 - val_accuracy: 0.8937 - val_loss: 0.5342\n",
      "Epoch 12/50\n",
      "\u001b[1m2246/2246\u001b[0m \u001b[32m━━━━━━━━━━━━━━━━━━━━\u001b[0m\u001b[37m\u001b[0m \u001b[1m152s\u001b[0m 68ms/step - accuracy: 0.7952 - loss: 0.7917 - val_accuracy: 0.8812 - val_loss: 0.5555\n",
      "Epoch 13/50\n",
      "\u001b[1m2246/2246\u001b[0m \u001b[32m━━━━━━━━━━━━━━━━━━━━\u001b[0m\u001b[37m\u001b[0m \u001b[1m152s\u001b[0m 68ms/step - accuracy: 0.7969 - loss: 0.7682 - val_accuracy: 0.8902 - val_loss: 0.5406\n",
      "Epoch 14/50\n",
      "\u001b[1m2246/2246\u001b[0m \u001b[32m━━━━━━━━━━━━━━━━━━━━\u001b[0m\u001b[37m\u001b[0m \u001b[1m153s\u001b[0m 68ms/step - accuracy: 0.7963 - loss: 0.7661 - val_accuracy: 0.8887 - val_loss: 0.5157\n",
      "Epoch 15/50\n",
      "\u001b[1m2246/2246\u001b[0m \u001b[32m━━━━━━━━━━━━━━━━━━━━\u001b[0m\u001b[37m\u001b[0m \u001b[1m152s\u001b[0m 68ms/step - accuracy: 0.8049 - loss: 0.7540 - val_accuracy: 0.8934 - val_loss: 0.5143\n",
      "Epoch 16/50\n",
      "\u001b[1m2246/2246\u001b[0m \u001b[32m━━━━━━━━━━━━━━━━━━━━\u001b[0m\u001b[37m\u001b[0m \u001b[1m152s\u001b[0m 67ms/step - accuracy: 0.7957 - loss: 0.7559 - val_accuracy: 0.8869 - val_loss: 0.5076\n",
      "Epoch 17/50\n",
      "\u001b[1m2246/2246\u001b[0m \u001b[32m━━━━━━━━━━━━━━━━━━━━\u001b[0m\u001b[37m\u001b[0m \u001b[1m223s\u001b[0m 99ms/step - accuracy: 0.8068 - loss: 0.7398 - val_accuracy: 0.8894 - val_loss: 0.4995\n",
      "Epoch 18/50\n",
      "\u001b[1m2246/2246\u001b[0m \u001b[32m━━━━━━━━━━━━━━━━━━━━\u001b[0m\u001b[37m\u001b[0m \u001b[1m857s\u001b[0m 382ms/step - accuracy: 0.8037 - loss: 0.7319 - val_accuracy: 0.8869 - val_loss: 0.5036\n",
      "Epoch 19/50\n",
      "\u001b[1m2246/2246\u001b[0m \u001b[32m━━━━━━━━━━━━━━━━━━━━\u001b[0m\u001b[37m\u001b[0m \u001b[1m1228s\u001b[0m 547ms/step - accuracy: 0.7982 - loss: 0.7510 - val_accuracy: 0.8877 - val_loss: 0.5013\n",
      "Epoch 20/50\n",
      "\u001b[1m2246/2246\u001b[0m \u001b[32m━━━━━━━━━━━━━━━━━━━━\u001b[0m\u001b[37m\u001b[0m \u001b[1m1003s\u001b[0m 447ms/step - accuracy: 0.8038 - loss: 0.7319 - val_accuracy: 0.8976 - val_loss: 0.4782\n",
      "Epoch 21/50\n",
      "\u001b[1m2246/2246\u001b[0m \u001b[32m━━━━━━━━━━━━━━━━━━━━\u001b[0m\u001b[37m\u001b[0m \u001b[1m153s\u001b[0m 68ms/step - accuracy: 0.7933 - loss: 0.7619 - val_accuracy: 0.8991 - val_loss: 0.4677\n",
      "Epoch 22/50\n",
      "\u001b[1m2246/2246\u001b[0m \u001b[32m━━━━━━━━━━━━━━━━━━━━\u001b[0m\u001b[37m\u001b[0m \u001b[1m153s\u001b[0m 68ms/step - accuracy: 0.8116 - loss: 0.7127 - val_accuracy: 0.8873 - val_loss: 0.4776\n",
      "Epoch 23/50\n",
      "\u001b[1m2246/2246\u001b[0m \u001b[32m━━━━━━━━━━━━━━━━━━━━\u001b[0m\u001b[37m\u001b[0m \u001b[1m155s\u001b[0m 69ms/step - accuracy: 0.7986 - loss: 0.7153 - val_accuracy: 0.8898 - val_loss: 0.4485\n",
      "Epoch 24/50\n",
      "\u001b[1m2246/2246\u001b[0m \u001b[32m━━━━━━━━━━━━━━━━━━━━\u001b[0m\u001b[37m\u001b[0m \u001b[1m154s\u001b[0m 69ms/step - accuracy: 0.8104 - loss: 0.6856 - val_accuracy: 0.8959 - val_loss: 0.4625\n",
      "Epoch 25/50\n",
      "\u001b[1m2246/2246\u001b[0m \u001b[32m━━━━━━━━━━━━━━━━━━━━\u001b[0m\u001b[37m\u001b[0m \u001b[1m153s\u001b[0m 68ms/step - accuracy: 0.8002 - loss: 0.7168 - val_accuracy: 0.8927 - val_loss: 0.4738\n",
      "Epoch 26/50\n",
      "\u001b[1m2246/2246\u001b[0m \u001b[32m━━━━━━━━━━━━━━━━━━━━\u001b[0m\u001b[37m\u001b[0m \u001b[1m154s\u001b[0m 68ms/step - accuracy: 0.7920 - loss: 0.7312 - val_accuracy: 0.8923 - val_loss: 0.4550\n",
      "Epoch 27/50\n",
      "\u001b[1m2246/2246\u001b[0m \u001b[32m━━━━━━━━━━━━━━━━━━━━\u001b[0m\u001b[37m\u001b[0m \u001b[1m154s\u001b[0m 69ms/step - accuracy: 0.8047 - loss: 0.7104 - val_accuracy: 0.8894 - val_loss: 0.4707\n",
      "Epoch 28/50\n",
      "\u001b[1m2246/2246\u001b[0m \u001b[32m━━━━━━━━━━━━━━━━━━━━\u001b[0m\u001b[37m\u001b[0m \u001b[1m154s\u001b[0m 68ms/step - accuracy: 0.7952 - loss: 0.7127 - val_accuracy: 0.8919 - val_loss: 0.4571\n",
      "Epoch 29/50\n",
      "\u001b[1m2246/2246\u001b[0m \u001b[32m━━━━━━━━━━━━━━━━━━━━\u001b[0m\u001b[37m\u001b[0m \u001b[1m154s\u001b[0m 69ms/step - accuracy: 0.8100 - loss: 0.6763 - val_accuracy: 0.8944 - val_loss: 0.4527\n",
      "Epoch 30/50\n",
      "\u001b[1m2246/2246\u001b[0m \u001b[32m━━━━━━━━━━━━━━━━━━━━\u001b[0m\u001b[37m\u001b[0m \u001b[1m154s\u001b[0m 69ms/step - accuracy: 0.8015 - loss: 0.6991 - val_accuracy: 0.8837 - val_loss: 0.4700\n",
      "Epoch 31/50\n",
      "\u001b[1m2246/2246\u001b[0m \u001b[32m━━━━━━━━━━━━━━━━━━━━\u001b[0m\u001b[37m\u001b[0m \u001b[1m155s\u001b[0m 69ms/step - accuracy: 0.7990 - loss: 0.6963 - val_accuracy: 0.9023 - val_loss: 0.4386\n",
      "Epoch 32/50\n",
      "\u001b[1m2246/2246\u001b[0m \u001b[32m━━━━━━━━━━━━━━━━━━━━\u001b[0m\u001b[37m\u001b[0m \u001b[1m154s\u001b[0m 69ms/step - accuracy: 0.8043 - loss: 0.6959 - val_accuracy: 0.8916 - val_loss: 0.4573\n",
      "Epoch 33/50\n",
      "\u001b[1m2246/2246\u001b[0m \u001b[32m━━━━━━━━━━━━━━━━━━━━\u001b[0m\u001b[37m\u001b[0m \u001b[1m154s\u001b[0m 69ms/step - accuracy: 0.8072 - loss: 0.6791 - val_accuracy: 0.8962 - val_loss: 0.4533\n",
      "Epoch 34/50\n",
      "\u001b[1m2246/2246\u001b[0m \u001b[32m━━━━━━━━━━━━━━━━━━━━\u001b[0m\u001b[37m\u001b[0m \u001b[1m155s\u001b[0m 69ms/step - accuracy: 0.7981 - loss: 0.7186 - val_accuracy: 0.8987 - val_loss: 0.4327\n",
      "Epoch 35/50\n",
      "\u001b[1m2246/2246\u001b[0m \u001b[32m━━━━━━━━━━━━━━━━━━━━\u001b[0m\u001b[37m\u001b[0m \u001b[1m155s\u001b[0m 69ms/step - accuracy: 0.8080 - loss: 0.6887 - val_accuracy: 0.8902 - val_loss: 0.4510\n",
      "Epoch 36/50\n",
      "\u001b[1m2246/2246\u001b[0m \u001b[32m━━━━━━━━━━━━━━━━━━━━\u001b[0m\u001b[37m\u001b[0m \u001b[1m154s\u001b[0m 69ms/step - accuracy: 0.8013 - loss: 0.6977 - val_accuracy: 0.8948 - val_loss: 0.4550\n",
      "Epoch 37/50\n",
      "\u001b[1m2246/2246\u001b[0m \u001b[32m━━━━━━━━━━━━━━━━━━━━\u001b[0m\u001b[37m\u001b[0m \u001b[1m155s\u001b[0m 69ms/step - accuracy: 0.7973 - loss: 0.7109 - val_accuracy: 0.8998 - val_loss: 0.4308\n",
      "Epoch 38/50\n",
      "\u001b[1m2246/2246\u001b[0m \u001b[32m━━━━━━━━━━━━━━━━━━━━\u001b[0m\u001b[37m\u001b[0m \u001b[1m156s\u001b[0m 69ms/step - accuracy: 0.7989 - loss: 0.6846 - val_accuracy: 0.9023 - val_loss: 0.4259\n",
      "Epoch 39/50\n",
      "\u001b[1m2246/2246\u001b[0m \u001b[32m━━━━━━━━━━━━━━━━━━━━\u001b[0m\u001b[37m\u001b[0m \u001b[1m155s\u001b[0m 69ms/step - accuracy: 0.8008 - loss: 0.6917 - val_accuracy: 0.8887 - val_loss: 0.4420\n",
      "Epoch 40/50\n",
      "\u001b[1m2246/2246\u001b[0m \u001b[32m━━━━━━━━━━━━━━━━━━━━\u001b[0m\u001b[37m\u001b[0m \u001b[1m155s\u001b[0m 69ms/step - accuracy: 0.8122 - loss: 0.6596 - val_accuracy: 0.8959 - val_loss: 0.4279\n",
      "Epoch 41/50\n",
      "\u001b[1m2246/2246\u001b[0m \u001b[32m━━━━━━━━━━━━━━━━━━━━\u001b[0m\u001b[37m\u001b[0m \u001b[1m155s\u001b[0m 69ms/step - accuracy: 0.7981 - loss: 0.6885 - val_accuracy: 0.8966 - val_loss: 0.4418\n",
      "Epoch 42/50\n",
      "\u001b[1m2246/2246\u001b[0m \u001b[32m━━━━━━━━━━━━━━━━━━━━\u001b[0m\u001b[37m\u001b[0m \u001b[1m154s\u001b[0m 69ms/step - accuracy: 0.8058 - loss: 0.6872 - val_accuracy: 0.8959 - val_loss: 0.4353\n",
      "Epoch 43/50\n",
      "\u001b[1m2246/2246\u001b[0m \u001b[32m━━━━━━━━━━━━━━━━━━━━\u001b[0m\u001b[37m\u001b[0m \u001b[1m158s\u001b[0m 70ms/step - accuracy: 0.8070 - loss: 0.6926 - val_accuracy: 0.8959 - val_loss: 0.4263\n",
      "Epoch 44/50\n",
      "\u001b[1m2246/2246\u001b[0m \u001b[32m━━━━━━━━━━━━━━━━━━━━\u001b[0m\u001b[37m\u001b[0m \u001b[1m158s\u001b[0m 70ms/step - accuracy: 0.8100 - loss: 0.6673 - val_accuracy: 0.8934 - val_loss: 0.4280\n",
      "Epoch 45/50\n",
      "\u001b[1m2246/2246\u001b[0m \u001b[32m━━━━━━━━━━━━━━━━━━━━\u001b[0m\u001b[37m\u001b[0m \u001b[1m157s\u001b[0m 70ms/step - accuracy: 0.8027 - loss: 0.6876 - val_accuracy: 0.9019 - val_loss: 0.4347\n",
      "Epoch 46/50\n",
      "\u001b[1m2246/2246\u001b[0m \u001b[32m━━━━━━━━━━━━━━━━━━━━\u001b[0m\u001b[37m\u001b[0m \u001b[1m158s\u001b[0m 70ms/step - accuracy: 0.8047 - loss: 0.6657 - val_accuracy: 0.8973 - val_loss: 0.4251\n",
      "Epoch 47/50\n",
      "\u001b[1m2246/2246\u001b[0m \u001b[32m━━━━━━━━━━━━━━━━━━━━\u001b[0m\u001b[37m\u001b[0m \u001b[1m158s\u001b[0m 70ms/step - accuracy: 0.8077 - loss: 0.6598 - val_accuracy: 0.8984 - val_loss: 0.4261\n",
      "Epoch 48/50\n",
      "\u001b[1m2246/2246\u001b[0m \u001b[32m━━━━━━━━━━━━━━━━━━━━\u001b[0m\u001b[37m\u001b[0m \u001b[1m158s\u001b[0m 70ms/step - accuracy: 0.8006 - loss: 0.6798 - val_accuracy: 0.8948 - val_loss: 0.4484\n",
      "Epoch 49/50\n",
      "\u001b[1m2246/2246\u001b[0m \u001b[32m━━━━━━━━━━━━━━━━━━━━\u001b[0m\u001b[37m\u001b[0m \u001b[1m158s\u001b[0m 70ms/step - accuracy: 0.8016 - loss: 0.6943 - val_accuracy: 0.8962 - val_loss: 0.4354\n",
      "Epoch 50/50\n",
      "\u001b[1m2246/2246\u001b[0m \u001b[32m━━━━━━━━━━━━━━━━━━━━\u001b[0m\u001b[37m\u001b[0m \u001b[1m159s\u001b[0m 71ms/step - accuracy: 0.7951 - loss: 0.6916 - val_accuracy: 0.9026 - val_loss: 0.4127\n",
      "Restoring model weights from the end of the best epoch: 50.\n"
     ]
    },
    {
     "data": {
      "image/png": "[encoded data removed]",
      "text/plain": [
       "<Figure size 1000x500 with 1 Axes>"
      ]
     },
     "metadata": {},
     "output_type": "display_data"
    }
   ],
   "source": [
    "# Load ResNet101 with pre-trained weights\n",
    "base_model = tf.keras.applications.ResNet101(weights='imagenet', include_top=False, input_shape=(224, 224, 3))\n",
    "\n",
    "# Freeze the base model\n",
    "base_model.trainable = False\n",
    "\n",
    "# Create the model architecture with additional layers for regularization and classification\n",
    "model = Sequential([\n",
    "    base_model,\n",
    "    GlobalAveragePooling2D(),\n",
    "    BatchNormalization(),\n",
    "    Dropout(0.2),\n",
    "    Dense(1024, activation='relu', kernel_regularizer=l2(0.01)),\n",
    "    BatchNormalization(),\n",
    "    Dense(6, activation='softmax')\n",
    "])\n",
    "\n",
    "# Compile the model\n",
    "model.compile(optimizer=Adam(), loss='categorical_crossentropy', metrics=['accuracy'])\n",
    "\n",
    "# Callbacks for early stopping and model checkpoint\n",
    "callbacks = [\n",
    "    EarlyStopping(monitor='val_loss', patience=10, verbose=1, restore_best_weights=True),\n",
    "    ModelCheckpoint('best_model_resnet101.keras', monitor='val_loss', save_best_only=True)\n",
    "]\n",
    "\n",
    "# Train the model\n",
    "history = model.fit(\n",
    "    train_generator,\n",
    "    epochs=50,\n",
    "    validation_data=validation_generator,\n",
    "    callbacks=callbacks\n",
    ")\n",
    "\n",
    "# Plotting training and validation errors\n",
    "plt.figure(figsize=(10, 5))\n",
    "plt.plot(history.history['loss'], label='Train Loss')\n",
    "plt.plot(history.history['val_loss'], label='Validation Loss')\n",
    "plt.title('Model Loss over Epochs')\n",
    "plt.ylabel('Loss')\n",
    "plt.xlabel('Epoch')\n",
    "plt.legend()\n",
    "plt.show()"
   ]
  },
  {
   "cell_type": "markdown",
   "id": "47dec315-986a-4e39-a605-57509a25c140",
   "metadata": {},
   "source": [
    "#### Test model"
   ]
  },
  {
   "cell_type": "code",
   "execution_count": 15,
   "id": "fcdb3689-658b-4889-94b4-f3eed5c67032",
   "metadata": {},
   "outputs": [
    {
     "name": "stderr",
     "output_type": "stream",
     "text": [
      "/var/folders/w4/q55y9y650m77xb_hvvqqtv7c0000gn/T/ipykernel_30356/1676540116.py:5: DeprecationWarning: `np.math` is a deprecated alias for the standard library `math` module (Deprecated Numpy 1.25). Replace usages of `np.math` with `math`\n",
      "  test_steps_per_epoch = np.math.ceil(test_generator.samples / test_generator.batch_size)\n"
     ]
    },
    {
     "name": "stdout",
     "output_type": "stream",
     "text": [
      "\u001b[1m600/600\u001b[0m \u001b[32m━━━━━━━━━━━━━━━━━━━━\u001b[0m\u001b[37m\u001b[0m \u001b[1m33s\u001b[0m 50ms/step\n",
      "              precision    recall  f1-score   support\n",
      "\n",
      "   buildings       0.92      0.90      0.91       437\n",
      "      forest       0.98      1.00      0.99       474\n",
      "     glacier       0.88      0.78      0.83       553\n",
      "    mountain       0.84      0.85      0.85       525\n",
      "         sea       0.90      0.98      0.94       510\n",
      "      street       0.90      0.93      0.92       501\n",
      "\n",
      "    accuracy                           0.90      3000\n",
      "   macro avg       0.91      0.91      0.91      3000\n",
      "weighted avg       0.90      0.90      0.90      3000\n",
      "\n",
      "AUC per class: 0.9907008018895908\n"
     ]
    }
   ],
   "source": [
    "# Load the best model\n",
    "model = load_model('best_model_resnet101.keras')\n",
    "\n",
    "# Predict on the test set\n",
    "test_steps_per_epoch = np.math.ceil(test_generator.samples / test_generator.batch_size)\n",
    "predictions = model.predict(test_generator, steps=test_steps_per_epoch)\n",
    "predicted_classes = np.argmax(predictions, axis=1)\n",
    "true_classes = test_generator.classes\n",
    "class_labels = list(test_generator.class_indices.keys())\n",
    "\n",
    "# Evaluate using sklearn's classification report\n",
    "report = classification_report(true_classes, predicted_classes, target_names=class_labels)\n",
    "print(report)\n",
    "\n",
    "# Calculate AUC for each class\n",
    "if predictions.shape[1] == 2:  # Binary classification check\n",
    "    auc_score = roc_auc_score(true_classes, predictions[:, 1])\n",
    "    print(f\"AUC: {auc_score}\")\n",
    "else:\n",
    "    auc_scores = roc_auc_score(true_classes, predictions, multi_class='ovr')\n",
    "    print(f\"AUC per class: {auc_scores}\")"
   ]
  },
  {
   "cell_type": "markdown",
   "id": "bce1b06a-c5c1-46c7-846b-123bd94245bf",
   "metadata": {},
   "source": [
    "### 3. EfficientNetB0"
   ]
  },
  {
   "cell_type": "markdown",
   "id": "bba8dd72-50de-474f-878b-d074cef633da",
   "metadata": {},
   "source": [
    "#### Data augmentation"
   ]
  },
  {
   "cell_type": "code",
   "execution_count": 16,
   "id": "c5e97e17-c1d7-4da9-b3bf-350623ca192a",
   "metadata": {},
   "outputs": [
    {
     "name": "stdout",
     "output_type": "stream",
     "text": [
      "Found 11230 images belonging to 6 classes.\n",
      "Found 2804 images belonging to 6 classes.\n",
      "Found 3000 images belonging to 6 classes.\n"
     ]
    }
   ],
   "source": [
    "# Set the path for training and testing images\n",
    "train_dir = '../data/seg_train'\n",
    "test_dir = '../data/seg_test'\n",
    "\n",
    "# Initialize the ImageDataGenerator with augmentation options for training\n",
    "train_datagen = ImageDataGenerator(\n",
    "    preprocessing_function=tf.keras.applications.efficientnet.preprocess_input,  # EfficientNetB0 preprocessing function\n",
    "    rotation_range=40,\n",
    "    width_shift_range=0.2,\n",
    "    height_shift_range=0.2,\n",
    "    shear_range=0.2,\n",
    "    zoom_range=0.2,\n",
    "    horizontal_flip=True,\n",
    "    fill_mode='nearest',\n",
    "    brightness_range=[0.8, 1.2],\n",
    "    validation_split=0.2  # 20% for validation\n",
    ")\n",
    "\n",
    "# No augmentation for test data, just preprocessing\n",
    "test_datagen = ImageDataGenerator(preprocessing_function=tf.keras.applications.efficientnet.preprocess_input)\n",
    "\n",
    "# Prepare data generators\n",
    "train_generator = train_datagen.flow_from_directory(\n",
    "    train_dir,\n",
    "    target_size=(224, 224),  # EfficientNetB0 default input size\n",
    "    batch_size=5,\n",
    "    class_mode='categorical',\n",
    "    subset='training'\n",
    ")\n",
    "\n",
    "validation_generator = train_datagen.flow_from_directory(\n",
    "    train_dir,\n",
    "    target_size=(224, 224),\n",
    "    batch_size=5,\n",
    "    class_mode='categorical',\n",
    "    subset='validation'\n",
    ")\n",
    "\n",
    "test_generator = test_datagen.flow_from_directory(\n",
    "    test_dir,\n",
    "    target_size=(224, 224),\n",
    "    batch_size=5,\n",
    "    class_mode='categorical',\n",
    "    shuffle=False\n",
    ")\n"
   ]
  },
  {
   "cell_type": "markdown",
   "id": "fb2375c8-1867-42b2-b9d9-7113bcfb32b3",
   "metadata": {},
   "source": [
    "#### Train the model"
   ]
  },
  {
   "cell_type": "code",
   "execution_count": 17,
   "id": "f87b5a0c-8fda-4063-b1ab-73d4fa77c6b9",
   "metadata": {},
   "outputs": [
    {
     "name": "stdout",
     "output_type": "stream",
     "text": [
      "Downloading data from https://storage.googleapis.com/keras-applications/efficientnetb0_notop.h5\n",
      "\u001b[1m16705208/16705208\u001b[0m \u001b[32m━━━━━━━━━━━━━━━━━━━━\u001b[0m\u001b[37m\u001b[0m \u001b[1m0s\u001b[0m 0us/step\n",
      "Epoch 1/50\n"
     ]
    },
    {
     "name": "stderr",
     "output_type": "stream",
     "text": [
      "/opt/anaconda3/envs/tf/lib/python3.10/site-packages/keras/src/trainers/data_adapters/py_dataset_adapter.py:121: UserWarning: Your `PyDataset` class should call `super().__init__(**kwargs)` in its constructor. `**kwargs` can include `workers`, `use_multiprocessing`, `max_queue_size`. Do not pass these arguments to `fit()`, as they will be ignored.\n",
      "  self._warn_if_super_not_called()\n"
     ]
    },
    {
     "name": "stdout",
     "output_type": "stream",
     "text": [
      "\u001b[1m2246/2246\u001b[0m \u001b[32m━━━━━━━━━━━━━━━━━━━━\u001b[0m\u001b[37m\u001b[0m \u001b[1m98s\u001b[0m 40ms/step - accuracy: 0.7089 - loss: 5.2036 - val_accuracy: 0.8370 - val_loss: 1.2392\n",
      "Epoch 2/50\n",
      "\u001b[1m2246/2246\u001b[0m \u001b[32m━━━━━━━━━━━━━━━━━━━━\u001b[0m\u001b[37m\u001b[0m \u001b[1m85s\u001b[0m 38ms/step - accuracy: 0.7536 - loss: 1.4174 - val_accuracy: 0.8277 - val_loss: 1.1474\n",
      "Epoch 3/50\n",
      "\u001b[1m2246/2246\u001b[0m \u001b[32m━━━━━━━━━━━━━━━━━━━━\u001b[0m\u001b[37m\u001b[0m \u001b[1m86s\u001b[0m 38ms/step - accuracy: 0.7563 - loss: 1.2664 - val_accuracy: 0.8595 - val_loss: 0.9189\n",
      "Epoch 4/50\n",
      "\u001b[1m2246/2246\u001b[0m \u001b[32m━━━━━━━━━━━━━━━━━━━━\u001b[0m\u001b[37m\u001b[0m \u001b[1m86s\u001b[0m 38ms/step - accuracy: 0.7777 - loss: 1.0599 - val_accuracy: 0.8591 - val_loss: 0.7210\n",
      "Epoch 5/50\n",
      "\u001b[1m2246/2246\u001b[0m \u001b[32m━━━━━━━━━━━━━━━━━━━━\u001b[0m\u001b[37m\u001b[0m \u001b[1m86s\u001b[0m 38ms/step - accuracy: 0.7920 - loss: 0.9067 - val_accuracy: 0.8862 - val_loss: 0.6036\n",
      "Epoch 6/50\n",
      "\u001b[1m2246/2246\u001b[0m \u001b[32m━━━━━━━━━━━━━━━━━━━━\u001b[0m\u001b[37m\u001b[0m \u001b[1m86s\u001b[0m 38ms/step - accuracy: 0.7955 - loss: 0.8469 - val_accuracy: 0.8820 - val_loss: 0.5858\n",
      "Epoch 7/50\n",
      "\u001b[1m2246/2246\u001b[0m \u001b[32m━━━━━━━━━━━━━━━━━━━━\u001b[0m\u001b[37m\u001b[0m \u001b[1m86s\u001b[0m 38ms/step - accuracy: 0.8061 - loss: 0.8018 - val_accuracy: 0.8869 - val_loss: 0.5706\n",
      "Epoch 8/50\n",
      "\u001b[1m2246/2246\u001b[0m \u001b[32m━━━━━━━━━━━━━━━━━━━━\u001b[0m\u001b[37m\u001b[0m \u001b[1m87s\u001b[0m 39ms/step - accuracy: 0.8039 - loss: 0.8149 - val_accuracy: 0.8869 - val_loss: 0.5393\n",
      "Epoch 9/50\n",
      "\u001b[1m2246/2246\u001b[0m \u001b[32m━━━━━━━━━━━━━━━━━━━━\u001b[0m\u001b[37m\u001b[0m \u001b[1m87s\u001b[0m 39ms/step - accuracy: 0.8027 - loss: 0.7599 - val_accuracy: 0.8845 - val_loss: 0.5522\n",
      "Epoch 10/50\n",
      "\u001b[1m2246/2246\u001b[0m \u001b[32m━━━━━━━━━━━━━━━━━━━━\u001b[0m\u001b[37m\u001b[0m \u001b[1m86s\u001b[0m 38ms/step - accuracy: 0.7967 - loss: 0.7721 - val_accuracy: 0.8812 - val_loss: 0.4948\n",
      "Epoch 11/50\n",
      "\u001b[1m2246/2246\u001b[0m \u001b[32m━━━━━━━━━━━━━━━━━━━━\u001b[0m\u001b[37m\u001b[0m \u001b[1m86s\u001b[0m 38ms/step - accuracy: 0.8003 - loss: 0.7664 - val_accuracy: 0.8894 - val_loss: 0.5163\n",
      "Epoch 12/50\n",
      "\u001b[1m2246/2246\u001b[0m \u001b[32m━━━━━━━━━━━━━━━━━━━━\u001b[0m\u001b[37m\u001b[0m \u001b[1m86s\u001b[0m 38ms/step - accuracy: 0.8155 - loss: 0.7247 - val_accuracy: 0.8894 - val_loss: 0.4980\n",
      "Epoch 13/50\n",
      "\u001b[1m2246/2246\u001b[0m \u001b[32m━━━━━━━━━━━━━━━━━━━━\u001b[0m\u001b[37m\u001b[0m \u001b[1m87s\u001b[0m 39ms/step - accuracy: 0.7948 - loss: 0.7524 - val_accuracy: 0.8923 - val_loss: 0.4720\n",
      "Epoch 14/50\n",
      "\u001b[1m2246/2246\u001b[0m \u001b[32m━━━━━━━━━━━━━━━━━━━━\u001b[0m\u001b[37m\u001b[0m \u001b[1m86s\u001b[0m 38ms/step - accuracy: 0.8067 - loss: 0.7394 - val_accuracy: 0.8930 - val_loss: 0.4805\n",
      "Epoch 15/50\n",
      "\u001b[1m2246/2246\u001b[0m \u001b[32m━━━━━━━━━━━━━━━━━━━━\u001b[0m\u001b[37m\u001b[0m \u001b[1m86s\u001b[0m 38ms/step - accuracy: 0.8043 - loss: 0.7266 - val_accuracy: 0.8980 - val_loss: 0.4623\n",
      "Epoch 16/50\n",
      "\u001b[1m2246/2246\u001b[0m \u001b[32m━━━━━━━━━━━━━━━━━━━━\u001b[0m\u001b[37m\u001b[0m \u001b[1m86s\u001b[0m 38ms/step - accuracy: 0.7936 - loss: 0.7503 - val_accuracy: 0.8916 - val_loss: 0.4693\n",
      "Epoch 17/50\n",
      "\u001b[1m2246/2246\u001b[0m \u001b[32m━━━━━━━━━━━━━━━━━━━━\u001b[0m\u001b[37m\u001b[0m \u001b[1m86s\u001b[0m 38ms/step - accuracy: 0.8028 - loss: 0.7264 - val_accuracy: 0.8894 - val_loss: 0.4683\n",
      "Epoch 18/50\n",
      "\u001b[1m2246/2246\u001b[0m \u001b[32m━━━━━━━━━━━━━━━━━━━━\u001b[0m\u001b[37m\u001b[0m \u001b[1m87s\u001b[0m 39ms/step - accuracy: 0.7984 - loss: 0.7424 - val_accuracy: 0.8955 - val_loss: 0.4503\n",
      "Epoch 19/50\n",
      "\u001b[1m2246/2246\u001b[0m \u001b[32m━━━━━━━━━━━━━━━━━━━━\u001b[0m\u001b[37m\u001b[0m \u001b[1m86s\u001b[0m 38ms/step - accuracy: 0.7956 - loss: 0.7196 - val_accuracy: 0.8973 - val_loss: 0.4592\n",
      "Epoch 20/50\n",
      "\u001b[1m2246/2246\u001b[0m \u001b[32m━━━━━━━━━━━━━━━━━━━━\u001b[0m\u001b[37m\u001b[0m \u001b[1m86s\u001b[0m 38ms/step - accuracy: 0.8043 - loss: 0.7085 - val_accuracy: 0.8894 - val_loss: 0.4638\n",
      "Epoch 21/50\n",
      "\u001b[1m2246/2246\u001b[0m \u001b[32m━━━━━━━━━━━━━━━━━━━━\u001b[0m\u001b[37m\u001b[0m \u001b[1m87s\u001b[0m 39ms/step - accuracy: 0.8073 - loss: 0.6902 - val_accuracy: 0.8955 - val_loss: 0.4304\n",
      "Epoch 22/50\n",
      "\u001b[1m2246/2246\u001b[0m \u001b[32m━━━━━━━━━━━━━━━━━━━━\u001b[0m\u001b[37m\u001b[0m \u001b[1m87s\u001b[0m 39ms/step - accuracy: 0.8018 - loss: 0.7009 - val_accuracy: 0.8916 - val_loss: 0.4617\n",
      "Epoch 23/50\n",
      "\u001b[1m2246/2246\u001b[0m \u001b[32m━━━━━━━━━━━━━━━━━━━━\u001b[0m\u001b[37m\u001b[0m \u001b[1m87s\u001b[0m 39ms/step - accuracy: 0.8056 - loss: 0.6915 - val_accuracy: 0.8937 - val_loss: 0.4419\n",
      "Epoch 24/50\n",
      "\u001b[1m2246/2246\u001b[0m \u001b[32m━━━━━━━━━━━━━━━━━━━━\u001b[0m\u001b[37m\u001b[0m \u001b[1m87s\u001b[0m 39ms/step - accuracy: 0.8048 - loss: 0.7023 - val_accuracy: 0.8962 - val_loss: 0.4504\n",
      "Epoch 25/50\n",
      "\u001b[1m2246/2246\u001b[0m \u001b[32m━━━━━━━━━━━━━━━━━━━━\u001b[0m\u001b[37m\u001b[0m \u001b[1m87s\u001b[0m 39ms/step - accuracy: 0.8007 - loss: 0.7061 - val_accuracy: 0.8902 - val_loss: 0.4351\n",
      "Epoch 26/50\n",
      "\u001b[1m2246/2246\u001b[0m \u001b[32m━━━━━━━━━━━━━━━━━━━━\u001b[0m\u001b[37m\u001b[0m \u001b[1m86s\u001b[0m 38ms/step - accuracy: 0.8075 - loss: 0.6833 - val_accuracy: 0.8944 - val_loss: 0.4363\n",
      "Epoch 27/50\n",
      "\u001b[1m2246/2246\u001b[0m \u001b[32m━━━━━━━━━━━━━━━━━━━━\u001b[0m\u001b[37m\u001b[0m \u001b[1m87s\u001b[0m 39ms/step - accuracy: 0.7945 - loss: 0.7101 - val_accuracy: 0.8966 - val_loss: 0.4261\n",
      "Epoch 28/50\n",
      "\u001b[1m2246/2246\u001b[0m \u001b[32m━━━━━━━━━━━━━━━━━━━━\u001b[0m\u001b[37m\u001b[0m \u001b[1m86s\u001b[0m 38ms/step - accuracy: 0.8060 - loss: 0.7003 - val_accuracy: 0.8955 - val_loss: 0.4273\n",
      "Epoch 29/50\n",
      "\u001b[1m2246/2246\u001b[0m \u001b[32m━━━━━━━━━━━━━━━━━━━━\u001b[0m\u001b[37m\u001b[0m \u001b[1m87s\u001b[0m 39ms/step - accuracy: 0.7993 - loss: 0.6940 - val_accuracy: 0.8877 - val_loss: 0.4380\n",
      "Epoch 30/50\n",
      "\u001b[1m2246/2246\u001b[0m \u001b[32m━━━━━━━━━━━━━━━━━━━━\u001b[0m\u001b[37m\u001b[0m \u001b[1m87s\u001b[0m 39ms/step - accuracy: 0.7955 - loss: 0.7048 - val_accuracy: 0.8980 - val_loss: 0.4331\n",
      "Epoch 31/50\n",
      "\u001b[1m2246/2246\u001b[0m \u001b[32m━━━━━━━━━━━━━━━━━━━━\u001b[0m\u001b[37m\u001b[0m \u001b[1m87s\u001b[0m 39ms/step - accuracy: 0.8039 - loss: 0.6718 - val_accuracy: 0.8912 - val_loss: 0.4283\n",
      "Epoch 32/50\n",
      "\u001b[1m2246/2246\u001b[0m \u001b[32m━━━━━━━━━━━━━━━━━━━━\u001b[0m\u001b[37m\u001b[0m \u001b[1m88s\u001b[0m 39ms/step - accuracy: 0.8021 - loss: 0.6773 - val_accuracy: 0.8966 - val_loss: 0.4125\n",
      "Epoch 33/50\n",
      "\u001b[1m2246/2246\u001b[0m \u001b[32m━━━━━━━━━━━━━━━━━━━━\u001b[0m\u001b[37m\u001b[0m \u001b[1m87s\u001b[0m 39ms/step - accuracy: 0.8052 - loss: 0.6734 - val_accuracy: 0.8891 - val_loss: 0.4294\n",
      "Epoch 34/50\n",
      "\u001b[1m2246/2246\u001b[0m \u001b[32m━━━━━━━━━━━━━━━━━━━━\u001b[0m\u001b[37m\u001b[0m \u001b[1m87s\u001b[0m 39ms/step - accuracy: 0.7936 - loss: 0.7001 - val_accuracy: 0.8948 - val_loss: 0.4183\n",
      "Epoch 35/50\n",
      "\u001b[1m2246/2246\u001b[0m \u001b[32m━━━━━━━━━━━━━━━━━━━━\u001b[0m\u001b[37m\u001b[0m \u001b[1m86s\u001b[0m 38ms/step - accuracy: 0.8073 - loss: 0.6681 - val_accuracy: 0.8959 - val_loss: 0.4232\n",
      "Epoch 36/50\n",
      "\u001b[1m2246/2246\u001b[0m \u001b[32m━━━━━━━━━━━━━━━━━━━━\u001b[0m\u001b[37m\u001b[0m \u001b[1m87s\u001b[0m 39ms/step - accuracy: 0.8015 - loss: 0.6774 - val_accuracy: 0.8923 - val_loss: 0.4216\n",
      "Epoch 37/50\n",
      "\u001b[1m2246/2246\u001b[0m \u001b[32m━━━━━━━━━━━━━━━━━━━━\u001b[0m\u001b[37m\u001b[0m \u001b[1m88s\u001b[0m 39ms/step - accuracy: 0.8068 - loss: 0.6746 - val_accuracy: 0.8927 - val_loss: 0.4291\n",
      "Epoch 38/50\n",
      "\u001b[1m2246/2246\u001b[0m \u001b[32m━━━━━━━━━━━━━━━━━━━━\u001b[0m\u001b[37m\u001b[0m \u001b[1m86s\u001b[0m 38ms/step - accuracy: 0.8069 - loss: 0.6698 - val_accuracy: 0.8934 - val_loss: 0.4148\n",
      "Epoch 39/50\n",
      "\u001b[1m2246/2246\u001b[0m \u001b[32m━━━━━━━━━━━━━━━━━━━━\u001b[0m\u001b[37m\u001b[0m \u001b[1m87s\u001b[0m 39ms/step - accuracy: 0.8080 - loss: 0.6615 - val_accuracy: 0.8912 - val_loss: 0.4297\n",
      "Epoch 40/50\n",
      "\u001b[1m2246/2246\u001b[0m \u001b[32m━━━━━━━━━━━━━━━━━━━━\u001b[0m\u001b[37m\u001b[0m \u001b[1m87s\u001b[0m 39ms/step - accuracy: 0.8077 - loss: 0.6737 - val_accuracy: 0.8891 - val_loss: 0.4180\n",
      "Epoch 41/50\n",
      "\u001b[1m2246/2246\u001b[0m \u001b[32m━━━━━━━━━━━━━━━━━━━━\u001b[0m\u001b[37m\u001b[0m \u001b[1m88s\u001b[0m 39ms/step - accuracy: 0.8064 - loss: 0.6777 - val_accuracy: 0.8966 - val_loss: 0.4189\n",
      "Epoch 42/50\n",
      "\u001b[1m2246/2246\u001b[0m \u001b[32m━━━━━━━━━━━━━━━━━━━━\u001b[0m\u001b[37m\u001b[0m \u001b[1m87s\u001b[0m 39ms/step - accuracy: 0.8022 - loss: 0.6761 - val_accuracy: 0.8934 - val_loss: 0.4184\n",
      "Epoch 42: early stopping\n",
      "Restoring model weights from the end of the best epoch: 32.\n"
     ]
    },
    {
     "data": {
      "image/png": "[encoded data removed]",
      "text/plain": [
       "<Figure size 1000x500 with 1 Axes>"
      ]
     },
     "metadata": {},
     "output_type": "display_data"
    }
   ],
   "source": [
    "# Load EfficientNetB0 with pre-trained weights\n",
    "base_model = tf.keras.applications.EfficientNetB0(weights='imagenet', include_top=False, input_shape=(224, 224, 3))\n",
    "\n",
    "# Freeze the base model\n",
    "base_model.trainable = False\n",
    "\n",
    "# Create the model architecture with additional layers for regularization and classification\n",
    "model = Sequential([\n",
    "    base_model,\n",
    "    GlobalAveragePooling2D(),\n",
    "    BatchNormalization(),\n",
    "    Dropout(0.2),\n",
    "    Dense(1024, activation='relu', kernel_regularizer=l2(0.01)),\n",
    "    BatchNormalization(),\n",
    "    Dense(6, activation='softmax')\n",
    "])\n",
    "\n",
    "# Compile the model\n",
    "model.compile(optimizer=Adam(), loss='categorical_crossentropy', metrics=['accuracy'])\n",
    "\n",
    "# Callbacks for early stopping and model checkpoint\n",
    "callbacks = [\n",
    "    EarlyStopping(monitor='val_loss', patience=10, verbose=1, restore_best_weights=True),\n",
    "    ModelCheckpoint('best_model_efficientnetb0.keras', monitor='val_loss', save_best_only=True)\n",
    "]\n",
    "\n",
    "# Train the model\n",
    "history = model.fit(\n",
    "    train_generator,\n",
    "    epochs=50,\n",
    "    validation_data=validation_generator,\n",
    "    callbacks=callbacks\n",
    ")\n",
    "\n",
    "# Plotting training and validation errors\n",
    "plt.figure(figsize=(10, 5))\n",
    "plt.plot(history.history['loss'], label='Train Loss')\n",
    "plt.plot(history.history['val_loss'], label='Validation Loss')\n",
    "plt.title('Model Loss over Epochs')\n",
    "plt.ylabel('Loss')\n",
    "plt.xlabel('Epoch')\n",
    "plt.legend()\n",
    "plt.show()\n"
   ]
  },
  {
   "cell_type": "markdown",
   "id": "220a9ec7-380e-4b34-a227-f4a276b8b075",
   "metadata": {},
   "source": [
    "#### Test model"
   ]
  },
  {
   "cell_type": "code",
   "execution_count": 18,
   "id": "9d0ed9e3-c5b2-4229-bbe0-dbecc71f914f",
   "metadata": {},
   "outputs": [
    {
     "name": "stderr",
     "output_type": "stream",
     "text": [
      "/var/folders/w4/q55y9y650m77xb_hvvqqtv7c0000gn/T/ipykernel_30356/93955173.py:5: DeprecationWarning: `np.math` is a deprecated alias for the standard library `math` module (Deprecated Numpy 1.25). Replace usages of `np.math` with `math`\n",
      "  test_steps_per_epoch = np.math.ceil(test_generator.samples / test_generator.batch_size)\n"
     ]
    },
    {
     "name": "stdout",
     "output_type": "stream",
     "text": [
      "\u001b[1m600/600\u001b[0m \u001b[32m━━━━━━━━━━━━━━━━━━━━\u001b[0m\u001b[37m\u001b[0m \u001b[1m17s\u001b[0m 22ms/step\n",
      "              precision    recall  f1-score   support\n",
      "\n",
      "   buildings       0.88      0.94      0.91       437\n",
      "      forest       1.00      0.99      0.99       474\n",
      "     glacier       0.87      0.80      0.83       553\n",
      "    mountain       0.85      0.87      0.86       525\n",
      "         sea       0.92      0.96      0.94       510\n",
      "      street       0.93      0.91      0.92       501\n",
      "\n",
      "    accuracy                           0.91      3000\n",
      "   macro avg       0.91      0.91      0.91      3000\n",
      "weighted avg       0.91      0.91      0.91      3000\n",
      "\n",
      "AUC per class: 0.9904669259113748\n"
     ]
    }
   ],
   "source": [
    "# Load the best model\n",
    "model = load_model('best_model_efficientnetb0.keras')\n",
    "\n",
    "# Predict on the test set\n",
    "test_steps_per_epoch = np.math.ceil(test_generator.samples / test_generator.batch_size)\n",
    "predictions = model.predict(test_generator, steps=test_steps_per_epoch)\n",
    "predicted_classes = np.argmax(predictions, axis=1)\n",
    "true_classes = test_generator.classes\n",
    "class_labels = list(test_generator.class_indices.keys())\n",
    "\n",
    "# Evaluate using sklearn's classification report\n",
    "report = classification_report(true_classes, predicted_classes, target_names=class_labels)\n",
    "print(report)\n",
    "\n",
    "# Calculate AUC for each class\n",
    "if predictions.shape[1] == 2:  # Binary classification check\n",
    "    auc_score = roc_auc_score(true_classes, predictions[:, 1])\n",
    "    print(f\"AUC: {auc_score}\")\n",
    "else:\n",
    "    auc_scores = roc_auc_score(true_classes, predictions, multi_class='ovr')\n",
    "    print(f\"AUC per class: {auc_scores}\")"
   ]
  },
  {
   "cell_type": "markdown",
   "id": "3b0282e7-246b-413d-b601-09613e7fbe7d",
   "metadata": {},
   "source": [
    "### 4. VGG16"
   ]
  },
  {
   "cell_type": "markdown",
   "id": "71a65031-5de4-4a8f-87aa-9666a68c96ba",
   "metadata": {},
   "source": [
    "#### Data augmentation"
   ]
  },
  {
   "cell_type": "code",
   "execution_count": 2,
   "id": "e546109e-f8a4-43c9-98fb-7f4a2be52c37",
   "metadata": {},
   "outputs": [
    {
     "name": "stdout",
     "output_type": "stream",
     "text": [
      "Found 11230 images belonging to 6 classes.\n",
      "Found 2804 images belonging to 6 classes.\n",
      "Found 3000 images belonging to 6 classes.\n"
     ]
    }
   ],
   "source": [
    "# Set the path for training and testing images\n",
    "train_dir = '../data/seg_train'\n",
    "test_dir = '../data/seg_test'\n",
    "\n",
    "# Initialize the ImageDataGenerator with augmentation options for training\n",
    "train_datagen = ImageDataGenerator(\n",
    "    preprocessing_function=tf.keras.applications.vgg16.preprocess_input,  # VGG16 preprocessing function\n",
    "    rotation_range=40,\n",
    "    width_shift_range=0.2,\n",
    "    height_shift_range=0.2,\n",
    "    shear_range=0.2,\n",
    "    zoom_range=0.2,\n",
    "    horizontal_flip=True,\n",
    "    fill_mode='nearest',\n",
    "    brightness_range=[0.8, 1.2],\n",
    "    validation_split=0.2  # 20% for validation\n",
    ")\n",
    "\n",
    "# No augmentation for test data, just preprocessing\n",
    "test_datagen = ImageDataGenerator(preprocessing_function=tf.keras.applications.vgg16.preprocess_input)\n",
    "\n",
    "# Prepare data generators\n",
    "train_generator = train_datagen.flow_from_directory(\n",
    "    train_dir,\n",
    "    target_size=(224, 224),  # VGG16 input size\n",
    "    batch_size=5,\n",
    "    class_mode='categorical',\n",
    "    subset='training'\n",
    ")\n",
    "\n",
    "validation_generator = train_datagen.flow_from_directory(\n",
    "    train_dir,\n",
    "    target_size=(224, 224),\n",
    "    batch_size=5,\n",
    "    class_mode='categorical',\n",
    "    subset='validation'\n",
    ")\n",
    "\n",
    "test_generator = test_datagen.flow_from_directory(\n",
    "    test_dir,\n",
    "    target_size=(224, 224),\n",
    "    batch_size=5,\n",
    "    class_mode='categorical',\n",
    "    shuffle=False\n",
    ")\n"
   ]
  },
  {
   "cell_type": "markdown",
   "id": "60d54259-ebc1-4ffc-94a1-b1c49e64953f",
   "metadata": {},
   "source": [
    "#### Train the model"
   ]
  },
  {
   "cell_type": "code",
   "execution_count": 3,
   "id": "8431c612-5484-4882-a73c-b4f915191e3d",
   "metadata": {},
   "outputs": [
    {
     "name": "stderr",
     "output_type": "stream",
     "text": [
      "2024-12-13 01:01:25.239409: I metal_plugin/src/device/metal_device.cc:1154] Metal device set to: Apple M3 Pro\n",
      "2024-12-13 01:01:25.239458: I metal_plugin/src/device/metal_device.cc:296] systemMemory: 18.00 GB\n",
      "2024-12-13 01:01:25.239474: I metal_plugin/src/device/metal_device.cc:313] maxCacheSize: 6.00 GB\n",
      "2024-12-13 01:01:25.239510: I tensorflow/core/common_runtime/pluggable_device/pluggable_device_factory.cc:305] Could not identify NUMA node of platform GPU ID 0, defaulting to 0. Your kernel may not have been built with NUMA support.\n",
      "2024-12-13 01:01:25.239538: I tensorflow/core/common_runtime/pluggable_device/pluggable_device_factory.cc:271] Created TensorFlow device (/job:localhost/replica:0/task:0/device:GPU:0 with 0 MB memory) -> physical PluggableDevice (device: 0, name: METAL, pci bus id: <undefined>)\n"
     ]
    },
    {
     "name": "stdout",
     "output_type": "stream",
     "text": [
      "Epoch 1/50\n"
     ]
    },
    {
     "name": "stderr",
     "output_type": "stream",
     "text": [
      "/opt/anaconda3/envs/tf/lib/python3.10/site-packages/keras/src/trainers/data_adapters/py_dataset_adapter.py:121: UserWarning: Your `PyDataset` class should call `super().__init__(**kwargs)` in its constructor. `**kwargs` can include `workers`, `use_multiprocessing`, `max_queue_size`. Do not pass these arguments to `fit()`, as they will be ignored.\n",
      "  self._warn_if_super_not_called()\n",
      "2024-12-13 01:01:25.957625: I tensorflow/core/grappler/optimizers/custom_graph_optimizer_registry.cc:117] Plugin optimizer for device_type GPU is enabled.\n"
     ]
    },
    {
     "name": "stdout",
     "output_type": "stream",
     "text": [
      "\u001b[1m2246/2246\u001b[0m \u001b[32m━━━━━━━━━━━━━━━━━━━━\u001b[0m\u001b[37m\u001b[0m \u001b[1m150s\u001b[0m 66ms/step - accuracy: 0.6717 - loss: 6.8698 - val_accuracy: 0.7896 - val_loss: 3.5169\n",
      "Epoch 2/50\n",
      "\u001b[1m2246/2246\u001b[0m \u001b[32m━━━━━━━━━━━━━━━━━━━━\u001b[0m\u001b[37m\u001b[0m \u001b[1m149s\u001b[0m 66ms/step - accuracy: 0.7088 - loss: 3.7881 - val_accuracy: 0.7721 - val_loss: 3.6198\n",
      "Epoch 3/50\n",
      "\u001b[1m2246/2246\u001b[0m \u001b[32m━━━━━━━━━━━━━━━━━━━━\u001b[0m\u001b[37m\u001b[0m \u001b[1m149s\u001b[0m 66ms/step - accuracy: 0.7156 - loss: 3.5865 - val_accuracy: 0.8199 - val_loss: 3.0866\n",
      "Epoch 4/50\n",
      "\u001b[1m2246/2246\u001b[0m \u001b[32m━━━━━━━━━━━━━━━━━━━━\u001b[0m\u001b[37m\u001b[0m \u001b[1m149s\u001b[0m 66ms/step - accuracy: 0.7363 - loss: 3.1421 - val_accuracy: 0.8313 - val_loss: 2.4649\n",
      "Epoch 5/50\n",
      "\u001b[1m2246/2246\u001b[0m \u001b[32m━━━━━━━━━━━━━━━━━━━━\u001b[0m\u001b[37m\u001b[0m \u001b[1m148s\u001b[0m 66ms/step - accuracy: 0.7583 - loss: 2.5608 - val_accuracy: 0.8295 - val_loss: 2.0278\n",
      "Epoch 6/50\n",
      "\u001b[1m2246/2246\u001b[0m \u001b[32m━━━━━━━━━━━━━━━━━━━━\u001b[0m\u001b[37m\u001b[0m \u001b[1m148s\u001b[0m 66ms/step - accuracy: 0.7525 - loss: 2.2447 - val_accuracy: 0.8370 - val_loss: 1.9640\n",
      "Epoch 7/50\n",
      "\u001b[1m2246/2246\u001b[0m \u001b[32m━━━━━━━━━━━━━━━━━━━━\u001b[0m\u001b[37m\u001b[0m \u001b[1m149s\u001b[0m 66ms/step - accuracy: 0.7664 - loss: 2.0750 - val_accuracy: 0.8302 - val_loss: 1.7261\n",
      "Epoch 8/50\n",
      "\u001b[1m2246/2246\u001b[0m \u001b[32m━━━━━━━━━━━━━━━━━━━━\u001b[0m\u001b[37m\u001b[0m \u001b[1m148s\u001b[0m 66ms/step - accuracy: 0.7496 - loss: 2.0188 - val_accuracy: 0.8395 - val_loss: 1.6686\n",
      "Epoch 9/50\n",
      "\u001b[1m2246/2246\u001b[0m \u001b[32m━━━━━━━━━━━━━━━━━━━━\u001b[0m\u001b[37m\u001b[0m \u001b[1m148s\u001b[0m 66ms/step - accuracy: 0.7554 - loss: 1.9272 - val_accuracy: 0.8527 - val_loss: 1.5737\n",
      "Epoch 10/50\n",
      "\u001b[1m2246/2246\u001b[0m \u001b[32m━━━━━━━━━━━━━━━━━━━━\u001b[0m\u001b[37m\u001b[0m \u001b[1m148s\u001b[0m 66ms/step - accuracy: 0.7632 - loss: 1.8472 - val_accuracy: 0.8078 - val_loss: 1.7004\n",
      "Epoch 11/50\n",
      "\u001b[1m2246/2246\u001b[0m \u001b[32m━━━━━━━━━━━━━━━━━━━━\u001b[0m\u001b[37m\u001b[0m \u001b[1m148s\u001b[0m 66ms/step - accuracy: 0.7496 - loss: 1.8799 - val_accuracy: 0.8413 - val_loss: 1.7032\n",
      "Epoch 12/50\n",
      "\u001b[1m2246/2246\u001b[0m \u001b[32m━━━━━━━━━━━━━━━━━━━━\u001b[0m\u001b[37m\u001b[0m \u001b[1m148s\u001b[0m 66ms/step - accuracy: 0.7583 - loss: 1.8703 - val_accuracy: 0.8488 - val_loss: 1.6311\n",
      "Epoch 13/50\n",
      "\u001b[1m2246/2246\u001b[0m \u001b[32m━━━━━━━━━━━━━━━━━━━━\u001b[0m\u001b[37m\u001b[0m \u001b[1m149s\u001b[0m 66ms/step - accuracy: 0.7676 - loss: 1.7762 - val_accuracy: 0.8549 - val_loss: 1.5262\n",
      "Epoch 14/50\n",
      "\u001b[1m2246/2246\u001b[0m \u001b[32m━━━━━━━━━━━━━━━━━━━━\u001b[0m\u001b[37m\u001b[0m \u001b[1m149s\u001b[0m 66ms/step - accuracy: 0.7569 - loss: 1.7338 - val_accuracy: 0.8520 - val_loss: 1.4385\n",
      "Epoch 15/50\n",
      "\u001b[1m2246/2246\u001b[0m \u001b[32m━━━━━━━━━━━━━━━━━━━━\u001b[0m\u001b[37m\u001b[0m \u001b[1m149s\u001b[0m 66ms/step - accuracy: 0.7710 - loss: 1.6937 - val_accuracy: 0.8449 - val_loss: 1.5398\n",
      "Epoch 16/50\n",
      "\u001b[1m2246/2246\u001b[0m \u001b[32m━━━━━━━━━━━━━━━━━━━━\u001b[0m\u001b[37m\u001b[0m \u001b[1m149s\u001b[0m 66ms/step - accuracy: 0.7631 - loss: 1.7346 - val_accuracy: 0.8666 - val_loss: 1.4214\n",
      "Epoch 17/50\n",
      "\u001b[1m2246/2246\u001b[0m \u001b[32m━━━━━━━━━━━━━━━━━━━━\u001b[0m\u001b[37m\u001b[0m \u001b[1m149s\u001b[0m 66ms/step - accuracy: 0.7741 - loss: 1.6694 - val_accuracy: 0.8363 - val_loss: 1.5922\n",
      "Epoch 18/50\n",
      "\u001b[1m2246/2246\u001b[0m \u001b[32m━━━━━━━━━━━━━━━━━━━━\u001b[0m\u001b[37m\u001b[0m \u001b[1m149s\u001b[0m 66ms/step - accuracy: 0.7704 - loss: 1.7052 - val_accuracy: 0.8531 - val_loss: 1.4248\n",
      "Epoch 19/50\n",
      "\u001b[1m2246/2246\u001b[0m \u001b[32m━━━━━━━━━━━━━━━━━━━━\u001b[0m\u001b[37m\u001b[0m \u001b[1m149s\u001b[0m 66ms/step - accuracy: 0.7595 - loss: 1.6472 - val_accuracy: 0.8545 - val_loss: 1.4463\n",
      "Epoch 20/50\n",
      "\u001b[1m2246/2246\u001b[0m \u001b[32m━━━━━━━━━━━━━━━━━━━━\u001b[0m\u001b[37m\u001b[0m \u001b[1m149s\u001b[0m 66ms/step - accuracy: 0.7547 - loss: 1.6939 - val_accuracy: 0.8520 - val_loss: 1.3109\n",
      "Epoch 21/50\n",
      "\u001b[1m2246/2246\u001b[0m \u001b[32m━━━━━━━━━━━━━━━━━━━━\u001b[0m\u001b[37m\u001b[0m \u001b[1m149s\u001b[0m 66ms/step - accuracy: 0.7776 - loss: 1.6214 - val_accuracy: 0.8438 - val_loss: 1.3914\n",
      "Epoch 22/50\n",
      "\u001b[1m2246/2246\u001b[0m \u001b[32m━━━━━━━━━━━━━━━━━━━━\u001b[0m\u001b[37m\u001b[0m \u001b[1m150s\u001b[0m 67ms/step - accuracy: 0.7695 - loss: 1.6426 - val_accuracy: 0.8541 - val_loss: 1.3734\n",
      "Epoch 23/50\n",
      "\u001b[1m2246/2246\u001b[0m \u001b[32m━━━━━━━━━━━━━━━━━━━━\u001b[0m\u001b[37m\u001b[0m \u001b[1m150s\u001b[0m 67ms/step - accuracy: 0.7676 - loss: 1.6031 - val_accuracy: 0.8527 - val_loss: 1.3660\n",
      "Epoch 24/50\n",
      "\u001b[1m2246/2246\u001b[0m \u001b[32m━━━━━━━━━━━━━━━━━━━━\u001b[0m\u001b[37m\u001b[0m \u001b[1m150s\u001b[0m 67ms/step - accuracy: 0.7677 - loss: 1.6375 - val_accuracy: 0.8481 - val_loss: 1.2782\n",
      "Epoch 25/50\n",
      "\u001b[1m2246/2246\u001b[0m \u001b[32m━━━━━━━━━━━━━━━━━━━━\u001b[0m\u001b[37m\u001b[0m \u001b[1m150s\u001b[0m 67ms/step - accuracy: 0.7636 - loss: 1.6055 - val_accuracy: 0.7464 - val_loss: 1.6578\n",
      "Epoch 26/50\n",
      "\u001b[1m2246/2246\u001b[0m \u001b[32m━━━━━━━━━━━━━━━━━━━━\u001b[0m\u001b[37m\u001b[0m \u001b[1m150s\u001b[0m 67ms/step - accuracy: 0.7661 - loss: 1.6301 - val_accuracy: 0.8409 - val_loss: 1.4393\n",
      "Epoch 27/50\n",
      "\u001b[1m2246/2246\u001b[0m \u001b[32m━━━━━━━━━━━━━━━━━━━━\u001b[0m\u001b[37m\u001b[0m \u001b[1m151s\u001b[0m 67ms/step - accuracy: 0.7669 - loss: 1.5708 - val_accuracy: 0.8442 - val_loss: 1.3416\n",
      "Epoch 28/50\n",
      "\u001b[1m2246/2246\u001b[0m \u001b[32m━━━━━━━━━━━━━━━━━━━━\u001b[0m\u001b[37m\u001b[0m \u001b[1m151s\u001b[0m 67ms/step - accuracy: 0.7630 - loss: 1.5923 - val_accuracy: 0.8459 - val_loss: 1.2729\n",
      "Epoch 29/50\n",
      "\u001b[1m2246/2246\u001b[0m \u001b[32m━━━━━━━━━━━━━━━━━━━━\u001b[0m\u001b[37m\u001b[0m \u001b[1m150s\u001b[0m 67ms/step - accuracy: 0.7606 - loss: 1.4761 - val_accuracy: 0.8516 - val_loss: 1.3897\n",
      "Epoch 30/50\n",
      "\u001b[1m2246/2246\u001b[0m \u001b[32m━━━━━━━━━━━━━━━━━━━━\u001b[0m\u001b[37m\u001b[0m \u001b[1m151s\u001b[0m 67ms/step - accuracy: 0.7630 - loss: 1.5474 - val_accuracy: 0.8210 - val_loss: 1.6891\n",
      "Epoch 31/50\n",
      "\u001b[1m2246/2246\u001b[0m \u001b[32m━━━━━━━━━━━━━━━━━━━━\u001b[0m\u001b[37m\u001b[0m \u001b[1m151s\u001b[0m 67ms/step - accuracy: 0.7674 - loss: 1.5933 - val_accuracy: 0.8527 - val_loss: 1.2434\n",
      "Epoch 32/50\n",
      "\u001b[1m2246/2246\u001b[0m \u001b[32m━━━━━━━━━━━━━━━━━━━━\u001b[0m\u001b[37m\u001b[0m \u001b[1m151s\u001b[0m 67ms/step - accuracy: 0.7732 - loss: 1.5017 - val_accuracy: 0.8484 - val_loss: 1.2005\n",
      "Epoch 33/50\n",
      "\u001b[1m2246/2246\u001b[0m \u001b[32m━━━━━━━━━━━━━━━━━━━━\u001b[0m\u001b[37m\u001b[0m \u001b[1m151s\u001b[0m 67ms/step - accuracy: 0.7644 - loss: 1.4867 - val_accuracy: 0.8695 - val_loss: 1.0720\n",
      "Epoch 34/50\n",
      "\u001b[1m2246/2246\u001b[0m \u001b[32m━━━━━━━━━━━━━━━━━━━━\u001b[0m\u001b[37m\u001b[0m \u001b[1m151s\u001b[0m 67ms/step - accuracy: 0.7721 - loss: 1.4570 - val_accuracy: 0.8335 - val_loss: 1.3013\n",
      "Epoch 35/50\n",
      "\u001b[1m2246/2246\u001b[0m \u001b[32m━━━━━━━━━━━━━━━━━━━━\u001b[0m\u001b[37m\u001b[0m \u001b[1m151s\u001b[0m 67ms/step - accuracy: 0.7617 - loss: 1.5160 - val_accuracy: 0.8595 - val_loss: 1.2763\n",
      "Epoch 36/50\n",
      "\u001b[1m2246/2246\u001b[0m \u001b[32m━━━━━━━━━━━━━━━━━━━━\u001b[0m\u001b[37m\u001b[0m \u001b[1m153s\u001b[0m 68ms/step - accuracy: 0.7553 - loss: 1.5091 - val_accuracy: 0.8434 - val_loss: 1.2515\n",
      "Epoch 37/50\n",
      "\u001b[1m2246/2246\u001b[0m \u001b[32m━━━━━━━━━━━━━━━━━━━━\u001b[0m\u001b[37m\u001b[0m \u001b[1m154s\u001b[0m 68ms/step - accuracy: 0.7684 - loss: 1.5332 - val_accuracy: 0.8406 - val_loss: 1.2063\n",
      "Epoch 38/50\n",
      "\u001b[1m2246/2246\u001b[0m \u001b[32m━━━━━━━━━━━━━━━━━━━━\u001b[0m\u001b[37m\u001b[0m \u001b[1m153s\u001b[0m 68ms/step - accuracy: 0.7580 - loss: 1.4865 - val_accuracy: 0.8673 - val_loss: 1.3173\n",
      "Epoch 39/50\n",
      "\u001b[1m2246/2246\u001b[0m \u001b[32m━━━━━━━━━━━━━━━━━━━━\u001b[0m\u001b[37m\u001b[0m \u001b[1m153s\u001b[0m 68ms/step - accuracy: 0.7539 - loss: 1.5367 - val_accuracy: 0.8509 - val_loss: 1.2226\n",
      "Epoch 40/50\n",
      "\u001b[1m2246/2246\u001b[0m \u001b[32m━━━━━━━━━━━━━━━━━━━━\u001b[0m\u001b[37m\u001b[0m \u001b[1m153s\u001b[0m 68ms/step - accuracy: 0.7637 - loss: 1.4948 - val_accuracy: 0.8534 - val_loss: 1.3231\n",
      "Epoch 41/50\n",
      "\u001b[1m2246/2246\u001b[0m \u001b[32m━━━━━━━━━━━━━━━━━━━━\u001b[0m\u001b[37m\u001b[0m \u001b[1m153s\u001b[0m 68ms/step - accuracy: 0.7568 - loss: 1.5000 - val_accuracy: 0.8591 - val_loss: 1.1921\n",
      "Epoch 42/50\n",
      "\u001b[1m2246/2246\u001b[0m \u001b[32m━━━━━━━━━━━━━━━━━━━━\u001b[0m\u001b[37m\u001b[0m \u001b[1m153s\u001b[0m 68ms/step - accuracy: 0.7569 - loss: 1.4832 - val_accuracy: 0.8531 - val_loss: 1.2950\n",
      "Epoch 43/50\n",
      "\u001b[1m2246/2246\u001b[0m \u001b[32m━━━━━━━━━━━━━━━━━━━━\u001b[0m\u001b[37m\u001b[0m \u001b[1m153s\u001b[0m 68ms/step - accuracy: 0.7681 - loss: 1.4536 - val_accuracy: 0.8449 - val_loss: 1.3696\n",
      "Epoch 43: early stopping\n",
      "Restoring model weights from the end of the best epoch: 33.\n"
     ]
    },
    {
     "data": {
      "image/png": "[encoded data removed]",
      "text/plain": [
       "<Figure size 1000x500 with 1 Axes>"
      ]
     },
     "metadata": {},
     "output_type": "display_data"
    }
   ],
   "source": [
    "# Load VGG16 with pre-trained weights\n",
    "base_model = tf.keras.applications.VGG16(weights='imagenet', include_top=False, input_shape=(224, 224, 3))\n",
    "\n",
    "# Freeze the base model\n",
    "base_model.trainable = False\n",
    "\n",
    "# Create the model architecture with additional layers for regularization and classification\n",
    "model = Sequential([\n",
    "    base_model,\n",
    "    Flatten(),  # Flatten the feature map to a single vector, instead of GlobalAveragePooling2D() to match VGG16’s typical structure\n",
    "    BatchNormalization(),\n",
    "    Dropout(0.5),  # Increased dropout for VGG16 to reduce overfitting\n",
    "    Dense(512, activation='relu', kernel_regularizer=l2(0.01)),  # Fully connected layer with 512 neurons\n",
    "    BatchNormalization(),\n",
    "    Dense(6, activation='softmax')  # Output layer for 6 classes\n",
    "])\n",
    "\n",
    "# Compile the model\n",
    "model.compile(optimizer=Adam(), loss='categorical_crossentropy', metrics=['accuracy'])\n",
    "\n",
    "# Callbacks for early stopping and model checkpoint\n",
    "callbacks = [\n",
    "    EarlyStopping(monitor='val_loss', patience=10, verbose=1, restore_best_weights=True),\n",
    "    ModelCheckpoint('best_model_vgg16.keras', monitor='val_loss', save_best_only=True)\n",
    "]\n",
    "\n",
    "# Train the model\n",
    "history = model.fit(\n",
    "    train_generator,\n",
    "    epochs=50,\n",
    "    validation_data=validation_generator,\n",
    "    callbacks=callbacks\n",
    ")\n",
    "\n",
    "# Plotting training and validation errors\n",
    "plt.figure(figsize=(10, 5))\n",
    "plt.plot(history.history['loss'], label='Train Loss')\n",
    "plt.plot(history.history['val_loss'], label='Validation Loss')\n",
    "plt.title('Model Loss over Epochs')\n",
    "plt.ylabel('Loss')\n",
    "plt.xlabel('Epoch')\n",
    "plt.legend()\n",
    "plt.show()"
   ]
  },
  {
   "cell_type": "markdown",
   "id": "dd491e10-376f-47be-8f1f-f3d968184df6",
   "metadata": {},
   "source": [
    "#### Test model"
   ]
  },
  {
   "cell_type": "code",
   "execution_count": 4,
   "id": "a970e393-8d22-44f9-beb5-0665f0e3349b",
   "metadata": {},
   "outputs": [
    {
     "name": "stdout",
     "output_type": "stream",
     "text": [
      "\u001b[1m  1/600\u001b[0m \u001b[37m━━━━━━━━━━━━━━━━━━━━\u001b[0m \u001b[1m1:11\u001b[0m 120ms/step"
     ]
    },
    {
     "name": "stderr",
     "output_type": "stream",
     "text": [
      "/var/folders/w4/q55y9y650m77xb_hvvqqtv7c0000gn/T/ipykernel_46274/2974184179.py:5: DeprecationWarning: `np.math` is a deprecated alias for the standard library `math` module (Deprecated Numpy 1.25). Replace usages of `np.math` with `math`\n",
      "  test_steps_per_epoch = np.math.ceil(test_generator.samples / test_generator.batch_size)\n"
     ]
    },
    {
     "name": "stdout",
     "output_type": "stream",
     "text": [
      "\u001b[1m600/600\u001b[0m \u001b[32m━━━━━━━━━━━━━━━━━━━━\u001b[0m\u001b[37m\u001b[0m \u001b[1m19s\u001b[0m 32ms/step\n",
      "              precision    recall  f1-score   support\n",
      "\n",
      "   buildings       0.93      0.87      0.90       437\n",
      "      forest       0.97      0.99      0.98       474\n",
      "     glacier       0.82      0.81      0.82       553\n",
      "    mountain       0.86      0.78      0.82       525\n",
      "         sea       0.88      0.96      0.92       510\n",
      "      street       0.90      0.94      0.92       501\n",
      "\n",
      "    accuracy                           0.89      3000\n",
      "   macro avg       0.89      0.89      0.89      3000\n",
      "weighted avg       0.89      0.89      0.89      3000\n",
      "\n",
      "AUC per class: 0.9859236815876091\n"
     ]
    }
   ],
   "source": [
    "# Load the best model\n",
    "model = load_model('best_model_vgg16.keras')\n",
    "\n",
    "# Predict on the test set\n",
    "test_steps_per_epoch = np.math.ceil(test_generator.samples / test_generator.batch_size)\n",
    "predictions = model.predict(test_generator, steps=test_steps_per_epoch)\n",
    "predicted_classes = np.argmax(predictions, axis=1)\n",
    "true_classes = test_generator.classes\n",
    "class_labels = list(test_generator.class_indices.keys())\n",
    "\n",
    "# Evaluate using sklearn's classification report\n",
    "report = classification_report(true_classes, predicted_classes, target_names=class_labels)\n",
    "print(report)\n",
    "\n",
    "# Calculate AUC for each class\n",
    "if predictions.shape[1] == 2:  # Binary classification check\n",
    "    auc_score = roc_auc_score(true_classes, predictions[:, 1])\n",
    "    print(f\"AUC: {auc_score}\")\n",
    "else:\n",
    "    auc_scores = roc_auc_score(true_classes, predictions, multi_class='ovr')\n",
    "    print(f\"AUC per class: {auc_scores}\")"
   ]
  },
  {
   "cell_type": "markdown",
   "id": "45361f40-3bf4-43ef-8315-3657f6df2fab",
   "metadata": {},
   "source": [
    "## Conclusion"
   ]
  },
  {
   "cell_type": "markdown",
   "id": "9d601fb4-4d91-4453-a3f0-6838e48f690d",
   "metadata": {},
   "source": [
    "These four models all perform well on the image dataset, all resulting an accuracy of around 0.9 and AUC per class around 0.99."
   ]
  },
  {
   "cell_type": "code",
   "execution_count": null,
   "id": "d9b6eab7-1d68-43c2-9d9f-f342b151f17a",
   "metadata": {},
   "outputs": [],
   "source": []
  }
 ],
 "metadata": {
  "kernelspec": {
   "display_name": "Python 3 (ipykernel)",
   "language": "python",
   "name": "python3"
  },
  "language_info": {
   "codemirror_mode": {
    "name": "ipython",
    "version": 3
   },
   "file_extension": ".py",
   "mimetype": "text/x-python",
   "name": "python",
   "nbconvert_exporter": "python",
   "pygments_lexer": "ipython3",
   "version": "3.10.13"
  }
 },
 "nbformat": 4,
 "nbformat_minor": 5
}
